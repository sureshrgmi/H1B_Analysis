{
 "cells": [
  {
   "cell_type": "markdown",
   "id": "2bbf0d3f",
   "metadata": {},
   "source": [
    "# Importing required libraries\n",
    "\n",
    "First of all, we will be importing required libraries such as pandas, matplotlib, seaborn etc that are neede in our preprocessing and analysis task"
   ]
  },
  {
   "cell_type": "code",
   "execution_count": 1,
   "id": "83dda0f4",
   "metadata": {},
   "outputs": [],
   "source": [
    "# Importing pandas and matplotlib\n",
    "import pandas as pd\n",
    "import matplotlib.pyplot as plt   \n",
    "from matplotlib.pyplot import pie\n"
   ]
  },
  {
   "cell_type": "markdown",
   "id": "9911c841",
   "metadata": {},
   "source": [
    "# Reading the large csv files into the dataframe\n",
    "\n",
    "There are two ways we can read the csv into a dataframe. One is by reading the csv files directly using read_csv and the other is using with statement to open the file manually and read it's contents. While read_csv is simpler and is more convenient way to perform the task, it is time consuming when comes to a large file. In this implementation, I have first opened thefile using with statement and then load the file to a dataframe using read_csv.\n",
    "\n",
    "Note: After the file is loaded into the dataframe, I have deleted the LCA_CASE_NUMBER field immediately as it may contain sensitive information and have created a new ID field for each of the dataframe. Another way would be to mask the column data."
   ]
  },
  {
   "cell_type": "code",
   "execution_count": 2,
   "id": "ce78e463",
   "metadata": {},
   "outputs": [
    {
     "name": "stderr",
     "output_type": "stream",
     "text": [
      "C:\\Users\\sures\\AppData\\Local\\Temp\\ipykernel_19396\\1227026343.py:5: FutureWarning: In a future version of pandas all arguments of DataFrame.drop except for the argument 'labels' will be keyword-only.\n",
      "  df_2014.drop(\"LCA_CASE_NUMBER\",1,inplace=True)\n",
      "C:\\Users\\sures\\AppData\\Local\\Temp\\ipykernel_19396\\1227026343.py:15: FutureWarning: In a future version of pandas all arguments of DataFrame.drop except for the argument 'labels' will be keyword-only.\n",
      "  df_2015.drop(\"CASE_NUMBER\",1,inplace=True)\n",
      "C:\\Users\\sures\\AppData\\Local\\Temp\\ipykernel_19396\\1227026343.py:22: DtypeWarning: Columns (14,15) have mixed types. Specify dtype option on import or set low_memory=False.\n",
      "  df_2016 = pd.read_csv(f)\n",
      "C:\\Users\\sures\\AppData\\Local\\Temp\\ipykernel_19396\\1227026343.py:24: FutureWarning: In a future version of pandas all arguments of DataFrame.drop except for the argument 'labels' will be keyword-only.\n",
      "  df_2016.drop(\"CASE_NUMBER\",1,inplace=True)\n"
     ]
    }
   ],
   "source": [
    "\n",
    "# Reading 2014 data into dataframe\n",
    "with open('H-1B_FY14_Q4.csv', encoding=\"latin1\") as f:\n",
    "    df_2014 = pd.read_csv(f)\n",
    "#Dropping CASE NUMBER field as it contains sensitive data and adding new id field\n",
    "df_2014.drop(\"LCA_CASE_NUMBER\",1,inplace=True)\n",
    "df_2014.insert(0, 'ID', ['2014_' + str(i) for i in range(1, len(df_2014)+1)])\n",
    "\n",
    "\n",
    "\n",
    "    \n",
    "# Reading 2015 data into dataframe\n",
    "with open('H-1B_Disclosure_Data_FY15_Q4.csv', encoding=\"latin1\") as f:\n",
    "    df_2015 = pd.read_csv(f)\n",
    "#Dropping CASE NUMBER field as it contains sensitive data and adding new id field\n",
    "df_2015.drop(\"CASE_NUMBER\",1,inplace=True)\n",
    "df_2015.insert(0, 'ID', ['2015_' + str(i) for i in range(1, len(df_2015)+1)])\n",
    "\n",
    "\n",
    "\n",
    "# Reading 2016 data into dataframe\n",
    "with open('H-1B_Disclosure_Data_FY16.csv', encoding=\"latin1\") as f:\n",
    "    df_2016 = pd.read_csv(f)\n",
    "#Dropping CASE NUMBER field as it contains sensitive data and adding new id field\n",
    "df_2016.drop(\"CASE_NUMBER\",1,inplace=True)\n",
    "df_2016.insert(0, 'ID', ['2016_' + str(i) for i in range(1, len(df_2016)+1)])\n",
    "\n"
   ]
  },
  {
   "cell_type": "markdown",
   "id": "b90f9399",
   "metadata": {},
   "source": [
    "### Analyzing 2014 file\n",
    "\n",
    "Once the files for each year are loaded into the dataframe, the next step would be to go through the contents of each dataframe."
   ]
  },
  {
   "cell_type": "code",
   "execution_count": 3,
   "id": "1c28b654",
   "metadata": {},
   "outputs": [
    {
     "name": "stdout",
     "output_type": "stream",
     "text": [
      "ID\n",
      "STATUS\n",
      "LCA_CASE_SUBMIT\n",
      "DECISION_DATE\n",
      "VISA_CLASS\n",
      "LCA_CASE_EMPLOYMENT_START_DATE\n",
      "LCA_CASE_EMPLOYMENT_END_DATE\n",
      "LCA_CASE_EMPLOYER_NAME\n",
      "LCA_CASE_EMPLOYER_ADDRESS\n",
      "LCA_CASE_EMPLOYER_CITY\n",
      "LCA_CASE_EMPLOYER_STATE\n",
      "LCA_CASE_EMPLOYER_POSTAL_CODE\n",
      "LCA_CASE_SOC_CODE\n",
      "LCA_CASE_SOC_NAME\n",
      "LCA_CASE_JOB_TITLE\n",
      "LCA_CASE_WAGE_RATE_FROM\n",
      "LCA_CASE_WAGE_RATE_TO\n",
      "LCA_CASE_WAGE_RATE_UNIT\n",
      "FULL_TIME_POS\n",
      "TOTAL_WORKERS\n",
      "LCA_CASE_WORKLOC1_CITY\n",
      "LCA_CASE_WORKLOC1_STATE\n",
      "PW_1\n",
      "PW_UNIT_1\n",
      "PW_SOURCE_1\n",
      "OTHER_WAGE_SOURCE_1\n",
      "YR_SOURCE_PUB_1\n",
      "LCA_CASE_WORKLOC2_CITY\n",
      "LCA_CASE_WORKLOC2_STATE\n",
      "PW_2\n",
      "PW_UNIT_2\n",
      "PW_SOURCE_2\n",
      "OTHER_WAGE_SOURCE_2\n",
      "YR_SOURCE_PUB_2\n",
      "LCA_CASE_NAICS_CODE\n"
     ]
    }
   ],
   "source": [
    "# Print all columns in the DataFrame\n",
    "for col in df_2014.columns:\n",
    "    print(col)"
   ]
  },
  {
   "cell_type": "code",
   "execution_count": 4,
   "id": "a3ac941b",
   "metadata": {},
   "outputs": [
    {
     "data": {
      "text/html": [
       "<div>\n",
       "<style scoped>\n",
       "    .dataframe tbody tr th:only-of-type {\n",
       "        vertical-align: middle;\n",
       "    }\n",
       "\n",
       "    .dataframe tbody tr th {\n",
       "        vertical-align: top;\n",
       "    }\n",
       "\n",
       "    .dataframe thead th {\n",
       "        text-align: right;\n",
       "    }\n",
       "</style>\n",
       "<table border=\"1\" class=\"dataframe\">\n",
       "  <thead>\n",
       "    <tr style=\"text-align: right;\">\n",
       "      <th></th>\n",
       "      <th>ID</th>\n",
       "      <th>STATUS</th>\n",
       "      <th>LCA_CASE_SUBMIT</th>\n",
       "      <th>DECISION_DATE</th>\n",
       "      <th>VISA_CLASS</th>\n",
       "      <th>LCA_CASE_EMPLOYMENT_START_DATE</th>\n",
       "      <th>LCA_CASE_EMPLOYMENT_END_DATE</th>\n",
       "      <th>LCA_CASE_EMPLOYER_NAME</th>\n",
       "      <th>LCA_CASE_EMPLOYER_ADDRESS</th>\n",
       "      <th>LCA_CASE_EMPLOYER_CITY</th>\n",
       "      <th>...</th>\n",
       "      <th>OTHER_WAGE_SOURCE_1</th>\n",
       "      <th>YR_SOURCE_PUB_1</th>\n",
       "      <th>LCA_CASE_WORKLOC2_CITY</th>\n",
       "      <th>LCA_CASE_WORKLOC2_STATE</th>\n",
       "      <th>PW_2</th>\n",
       "      <th>PW_UNIT_2</th>\n",
       "      <th>PW_SOURCE_2</th>\n",
       "      <th>OTHER_WAGE_SOURCE_2</th>\n",
       "      <th>YR_SOURCE_PUB_2</th>\n",
       "      <th>LCA_CASE_NAICS_CODE</th>\n",
       "    </tr>\n",
       "  </thead>\n",
       "  <tbody>\n",
       "    <tr>\n",
       "      <th>298402</th>\n",
       "      <td>2014_298403</td>\n",
       "      <td>CERTIFIED</td>\n",
       "      <td>3/20/2014</td>\n",
       "      <td>3/28/2014</td>\n",
       "      <td>H-1B</td>\n",
       "      <td>9/6/2014</td>\n",
       "      <td>9/6/2017</td>\n",
       "      <td>TRICOLOR AUTO GROUP, LLC</td>\n",
       "      <td>545 E JOHN W CARPENTER FWY #1900</td>\n",
       "      <td>IRVING</td>\n",
       "      <td>...</td>\n",
       "      <td>WWW.FLCDATACENTER.COM</td>\n",
       "      <td>2013.0</td>\n",
       "      <td>NaN</td>\n",
       "      <td>NaN</td>\n",
       "      <td>NaN</td>\n",
       "      <td>NaN</td>\n",
       "      <td>NaN</td>\n",
       "      <td>NaN</td>\n",
       "      <td>NaN</td>\n",
       "      <td>441120.0</td>\n",
       "    </tr>\n",
       "    <tr>\n",
       "      <th>185850</th>\n",
       "      <td>2014_185851</td>\n",
       "      <td>CERTIFIED</td>\n",
       "      <td>2/25/2014</td>\n",
       "      <td>3/3/2014</td>\n",
       "      <td>H-1B</td>\n",
       "      <td>8/26/2014</td>\n",
       "      <td>8/26/2017</td>\n",
       "      <td>PEGASUS KNOWLEDGE SOLUTIONS, INC.</td>\n",
       "      <td>1111 PLAZA DRIVE SUITE 790</td>\n",
       "      <td>SCHAUMBURG</td>\n",
       "      <td>...</td>\n",
       "      <td>OFLC ONLINE DATA CENTRE</td>\n",
       "      <td>2013.0</td>\n",
       "      <td>WAUKEGAN</td>\n",
       "      <td>IL</td>\n",
       "      <td>50128.0</td>\n",
       "      <td>Year</td>\n",
       "      <td>OES</td>\n",
       "      <td>OFLC ONLINE DATA CENTRE</td>\n",
       "      <td>OFLC ONLINE DATA CENTRE</td>\n",
       "      <td>541511.0</td>\n",
       "    </tr>\n",
       "    <tr>\n",
       "      <th>392789</th>\n",
       "      <td>2014_392790</td>\n",
       "      <td>CERTIFIED</td>\n",
       "      <td>5/29/2014</td>\n",
       "      <td>6/4/2014</td>\n",
       "      <td>H-1B</td>\n",
       "      <td>10/1/2014</td>\n",
       "      <td>9/30/2017</td>\n",
       "      <td>IBM INDIA PRIVATE LIMITED</td>\n",
       "      <td>3039 E. CORNWALLIS ROAD</td>\n",
       "      <td>DURHAM</td>\n",
       "      <td>...</td>\n",
       "      <td>OFLC ONLINE DATACENTER</td>\n",
       "      <td>2013.0</td>\n",
       "      <td>NaN</td>\n",
       "      <td>NaN</td>\n",
       "      <td>NaN</td>\n",
       "      <td>NaN</td>\n",
       "      <td>NaN</td>\n",
       "      <td>NaN</td>\n",
       "      <td>NaN</td>\n",
       "      <td>541510.0</td>\n",
       "    </tr>\n",
       "    <tr>\n",
       "      <th>29679</th>\n",
       "      <td>2014_29680</td>\n",
       "      <td>CERTIFIED</td>\n",
       "      <td>9/26/2013</td>\n",
       "      <td>11/1/2013</td>\n",
       "      <td>H-1B</td>\n",
       "      <td>10/1/2013</td>\n",
       "      <td>9/30/2016</td>\n",
       "      <td>AMAZON CORPORATE LLC</td>\n",
       "      <td>535 TERRY AVENUE NORTH</td>\n",
       "      <td>SEATTLE</td>\n",
       "      <td>...</td>\n",
       "      <td>OFLC ONLINE DATA CENTER</td>\n",
       "      <td>2013.0</td>\n",
       "      <td>NaN</td>\n",
       "      <td>NaN</td>\n",
       "      <td>NaN</td>\n",
       "      <td>NaN</td>\n",
       "      <td>NaN</td>\n",
       "      <td>NaN</td>\n",
       "      <td>NaN</td>\n",
       "      <td>454111.0</td>\n",
       "    </tr>\n",
       "    <tr>\n",
       "      <th>158092</th>\n",
       "      <td>2014_158093</td>\n",
       "      <td>CERTIFIED</td>\n",
       "      <td>2/13/2014</td>\n",
       "      <td>2/21/2014</td>\n",
       "      <td>H-1B</td>\n",
       "      <td>8/11/2014</td>\n",
       "      <td>8/9/2017</td>\n",
       "      <td>INFOSYS LIMITED</td>\n",
       "      <td>6100 TENNYSON PARKWAY</td>\n",
       "      <td>PLANO</td>\n",
       "      <td>...</td>\n",
       "      <td>OFLC ONLINE DATA CENTER</td>\n",
       "      <td>2013.0</td>\n",
       "      <td>NaN</td>\n",
       "      <td>NaN</td>\n",
       "      <td>NaN</td>\n",
       "      <td>NaN</td>\n",
       "      <td>NaN</td>\n",
       "      <td>NaN</td>\n",
       "      <td>NaN</td>\n",
       "      <td>541511.0</td>\n",
       "    </tr>\n",
       "  </tbody>\n",
       "</table>\n",
       "<p>5 rows × 35 columns</p>\n",
       "</div>"
      ],
      "text/plain": [
       "                 ID     STATUS LCA_CASE_SUBMIT DECISION_DATE VISA_CLASS  \\\n",
       "298402  2014_298403  CERTIFIED       3/20/2014     3/28/2014       H-1B   \n",
       "185850  2014_185851  CERTIFIED       2/25/2014      3/3/2014       H-1B   \n",
       "392789  2014_392790  CERTIFIED       5/29/2014      6/4/2014       H-1B   \n",
       "29679    2014_29680  CERTIFIED       9/26/2013     11/1/2013       H-1B   \n",
       "158092  2014_158093  CERTIFIED       2/13/2014     2/21/2014       H-1B   \n",
       "\n",
       "       LCA_CASE_EMPLOYMENT_START_DATE LCA_CASE_EMPLOYMENT_END_DATE  \\\n",
       "298402                       9/6/2014                     9/6/2017   \n",
       "185850                      8/26/2014                    8/26/2017   \n",
       "392789                      10/1/2014                    9/30/2017   \n",
       "29679                       10/1/2013                    9/30/2016   \n",
       "158092                      8/11/2014                     8/9/2017   \n",
       "\n",
       "                   LCA_CASE_EMPLOYER_NAME         LCA_CASE_EMPLOYER_ADDRESS  \\\n",
       "298402           TRICOLOR AUTO GROUP, LLC  545 E JOHN W CARPENTER FWY #1900   \n",
       "185850  PEGASUS KNOWLEDGE SOLUTIONS, INC.        1111 PLAZA DRIVE SUITE 790   \n",
       "392789          IBM INDIA PRIVATE LIMITED           3039 E. CORNWALLIS ROAD   \n",
       "29679                AMAZON CORPORATE LLC            535 TERRY AVENUE NORTH   \n",
       "158092                    INFOSYS LIMITED             6100 TENNYSON PARKWAY   \n",
       "\n",
       "       LCA_CASE_EMPLOYER_CITY  ...      OTHER_WAGE_SOURCE_1 YR_SOURCE_PUB_1  \\\n",
       "298402                 IRVING  ...    WWW.FLCDATACENTER.COM          2013.0   \n",
       "185850             SCHAUMBURG  ...  OFLC ONLINE DATA CENTRE          2013.0   \n",
       "392789                 DURHAM  ...   OFLC ONLINE DATACENTER          2013.0   \n",
       "29679                 SEATTLE  ...  OFLC ONLINE DATA CENTER          2013.0   \n",
       "158092                  PLANO  ...  OFLC ONLINE DATA CENTER          2013.0   \n",
       "\n",
       "       LCA_CASE_WORKLOC2_CITY LCA_CASE_WORKLOC2_STATE     PW_2  PW_UNIT_2  \\\n",
       "298402                    NaN                     NaN      NaN        NaN   \n",
       "185850               WAUKEGAN                      IL  50128.0       Year   \n",
       "392789                    NaN                     NaN      NaN        NaN   \n",
       "29679                     NaN                     NaN      NaN        NaN   \n",
       "158092                    NaN                     NaN      NaN        NaN   \n",
       "\n",
       "        PW_SOURCE_2      OTHER_WAGE_SOURCE_2          YR_SOURCE_PUB_2  \\\n",
       "298402          NaN                      NaN                      NaN   \n",
       "185850          OES  OFLC ONLINE DATA CENTRE  OFLC ONLINE DATA CENTRE   \n",
       "392789          NaN                      NaN                      NaN   \n",
       "29679           NaN                      NaN                      NaN   \n",
       "158092          NaN                      NaN                      NaN   \n",
       "\n",
       "        LCA_CASE_NAICS_CODE  \n",
       "298402             441120.0  \n",
       "185850             541511.0  \n",
       "392789             541510.0  \n",
       "29679              454111.0  \n",
       "158092             541511.0  \n",
       "\n",
       "[5 rows x 35 columns]"
      ]
     },
     "execution_count": 4,
     "metadata": {},
     "output_type": "execute_result"
    }
   ],
   "source": [
    "# Let's see some sample data from the dataframe\n",
    "df_2014.sample(5)"
   ]
  },
  {
   "cell_type": "markdown",
   "id": "be239782",
   "metadata": {},
   "source": [
    "### Analyzing 2015 file\n",
    "\n",
    "Let's do the same for 2015 file"
   ]
  },
  {
   "cell_type": "code",
   "execution_count": 5,
   "id": "7dd4c9f1",
   "metadata": {},
   "outputs": [
    {
     "name": "stdout",
     "output_type": "stream",
     "text": [
      "ID\n",
      "CASE_STATUS\n",
      "CASE_SUBMITTED\n",
      "DECISION_DATE\n",
      "VISA_CLASS\n",
      "EMPLOYMENT_START_DATE\n",
      "EMPLOYMENT_END_DATE\n",
      "EMPLOYER_NAME\n",
      "EMPLOYER_ADDRESS1\n",
      "EMPLOYER_ADDRESS2\n",
      "EMPLOYER_CITY\n",
      "EMPLOYER_STATE\n",
      "EMPLOYER_POSTAL_CODE\n",
      "EMPLOYER_COUNTRY\n",
      "EMPLOYER_PROVINCE\n",
      "EMPLOYER_PHONE\n",
      "EMPLOYER_PHONE_EXT\n",
      "AGENT_ATTORNEY_NAME\n",
      "AGENT_ATTORNEY_CITY\n",
      "AGENT_ATTORNEY_STATE\n",
      "JOB_TITLE\n",
      "SOC_CODE\n",
      "SOC_NAME\n",
      "NAIC_CODE\n",
      "TOTAL WORKERS\n",
      "FULL_TIME_POSITION\n",
      "PREVAILING_WAGE\n",
      "PW_UNIT_OF_PAY\n",
      "PW_WAGE_LEVEL\n",
      "PW_WAGE_SOURCE\n",
      "PW_WAGE_SOURCE_YEAR\n",
      "PW_WAGE_SOURCE_OTHER\n",
      "WAGE_RATE_OF_PAY\n",
      "WAGE_UNIT_OF_PAY\n",
      "H-1B_DEPENDENT\n",
      "WILLFUL VIOLATOR\n",
      "WORKSITE_CITY\n",
      "WORKSITE_COUNTY\n",
      "WORKSITE_STATE\n",
      "WORKSITE_POSTAL_CODE\n"
     ]
    }
   ],
   "source": [
    "# Print all columns in the DataFrame\n",
    "for col in df_2015.columns:\n",
    "    print(col)"
   ]
  },
  {
   "cell_type": "code",
   "execution_count": 6,
   "id": "608e2c03",
   "metadata": {},
   "outputs": [
    {
     "data": {
      "text/html": [
       "<div>\n",
       "<style scoped>\n",
       "    .dataframe tbody tr th:only-of-type {\n",
       "        vertical-align: middle;\n",
       "    }\n",
       "\n",
       "    .dataframe tbody tr th {\n",
       "        vertical-align: top;\n",
       "    }\n",
       "\n",
       "    .dataframe thead th {\n",
       "        text-align: right;\n",
       "    }\n",
       "</style>\n",
       "<table border=\"1\" class=\"dataframe\">\n",
       "  <thead>\n",
       "    <tr style=\"text-align: right;\">\n",
       "      <th></th>\n",
       "      <th>ID</th>\n",
       "      <th>CASE_STATUS</th>\n",
       "      <th>CASE_SUBMITTED</th>\n",
       "      <th>DECISION_DATE</th>\n",
       "      <th>VISA_CLASS</th>\n",
       "      <th>EMPLOYMENT_START_DATE</th>\n",
       "      <th>EMPLOYMENT_END_DATE</th>\n",
       "      <th>EMPLOYER_NAME</th>\n",
       "      <th>EMPLOYER_ADDRESS1</th>\n",
       "      <th>EMPLOYER_ADDRESS2</th>\n",
       "      <th>...</th>\n",
       "      <th>PW_WAGE_SOURCE_YEAR</th>\n",
       "      <th>PW_WAGE_SOURCE_OTHER</th>\n",
       "      <th>WAGE_RATE_OF_PAY</th>\n",
       "      <th>WAGE_UNIT_OF_PAY</th>\n",
       "      <th>H-1B_DEPENDENT</th>\n",
       "      <th>WILLFUL VIOLATOR</th>\n",
       "      <th>WORKSITE_CITY</th>\n",
       "      <th>WORKSITE_COUNTY</th>\n",
       "      <th>WORKSITE_STATE</th>\n",
       "      <th>WORKSITE_POSTAL_CODE</th>\n",
       "    </tr>\n",
       "  </thead>\n",
       "  <tbody>\n",
       "    <tr>\n",
       "      <th>291762</th>\n",
       "      <td>2015_291763</td>\n",
       "      <td>CERTIFIED</td>\n",
       "      <td>3/10/2015</td>\n",
       "      <td>3/16/2015</td>\n",
       "      <td>H-1B</td>\n",
       "      <td>09/08/2015</td>\n",
       "      <td>09/08/2018</td>\n",
       "      <td>VIRTUSA CORPORATION</td>\n",
       "      <td>2000 WEST PARK DRIVE</td>\n",
       "      <td>STE. 300</td>\n",
       "      <td>...</td>\n",
       "      <td>2015.0</td>\n",
       "      <td>OFLC ONLINE DATA CENTER</td>\n",
       "      <td>80995 -</td>\n",
       "      <td>Year</td>\n",
       "      <td>Y</td>\n",
       "      <td>N</td>\n",
       "      <td>NEW YORK</td>\n",
       "      <td>NEW YORK</td>\n",
       "      <td>NY</td>\n",
       "      <td>10005</td>\n",
       "    </tr>\n",
       "    <tr>\n",
       "      <th>70461</th>\n",
       "      <td>2015_70462</td>\n",
       "      <td>CERTIFIED</td>\n",
       "      <td>11/12/2014</td>\n",
       "      <td>11/18/2014</td>\n",
       "      <td>H-1B</td>\n",
       "      <td>11/12/2014</td>\n",
       "      <td>11/12/2017</td>\n",
       "      <td>BUSINESS INTELLI SOLUTIONS INC</td>\n",
       "      <td>4100 SPRING VALLEY RD</td>\n",
       "      <td>SUITE # 205</td>\n",
       "      <td>...</td>\n",
       "      <td>2014.0</td>\n",
       "      <td>OFLC ONLINE DATA CENTER</td>\n",
       "      <td>50565 -</td>\n",
       "      <td>Year</td>\n",
       "      <td>Y</td>\n",
       "      <td>N</td>\n",
       "      <td>EDINA,</td>\n",
       "      <td>HENNEPIN</td>\n",
       "      <td>MN</td>\n",
       "      <td>55435</td>\n",
       "    </tr>\n",
       "    <tr>\n",
       "      <th>459062</th>\n",
       "      <td>2015_459063</td>\n",
       "      <td>CERTIFIED</td>\n",
       "      <td>5/15/2015</td>\n",
       "      <td>5/21/2015</td>\n",
       "      <td>H-1B</td>\n",
       "      <td>06/01/2015</td>\n",
       "      <td>05/31/2018</td>\n",
       "      <td>PERCEPTRON, INC.</td>\n",
       "      <td>47827 HALYARD DRIVE</td>\n",
       "      <td>NaN</td>\n",
       "      <td>...</td>\n",
       "      <td>2015.0</td>\n",
       "      <td>OFLC ONLINE DATA CENTER</td>\n",
       "      <td>118000 -</td>\n",
       "      <td>Year</td>\n",
       "      <td>N</td>\n",
       "      <td>N</td>\n",
       "      <td>PLYMOUTH</td>\n",
       "      <td>WAYNE</td>\n",
       "      <td>MI</td>\n",
       "      <td>48170</td>\n",
       "    </tr>\n",
       "    <tr>\n",
       "      <th>577358</th>\n",
       "      <td>2015_577359</td>\n",
       "      <td>CERTIFIED</td>\n",
       "      <td>8/31/2015</td>\n",
       "      <td>9/5/2015</td>\n",
       "      <td>H-1B</td>\n",
       "      <td>09/10/2015</td>\n",
       "      <td>09/09/2018</td>\n",
       "      <td>ORACLE FINANCIAL SERVICES SOFTWARE, INC.</td>\n",
       "      <td>399 THORNALL STREET</td>\n",
       "      <td>NaN</td>\n",
       "      <td>...</td>\n",
       "      <td>2015.0</td>\n",
       "      <td>RADFORD GLOBAL TECHNOLOGY SURVEY</td>\n",
       "      <td>100410 - 139132</td>\n",
       "      <td>Year</td>\n",
       "      <td>N</td>\n",
       "      <td>N</td>\n",
       "      <td>NORWALK</td>\n",
       "      <td>FAIRFIELD</td>\n",
       "      <td>CT</td>\n",
       "      <td>06850</td>\n",
       "    </tr>\n",
       "    <tr>\n",
       "      <th>145515</th>\n",
       "      <td>2015_145516</td>\n",
       "      <td>CERTIFIED-WITHDRAWN</td>\n",
       "      <td>1/29/2015</td>\n",
       "      <td>2/25/2015</td>\n",
       "      <td>H-1B</td>\n",
       "      <td>07/14/2015</td>\n",
       "      <td>07/14/2018</td>\n",
       "      <td>TECH MAHINDRA (AMERICAS), INC.</td>\n",
       "      <td>4965 PRESTON PARK BOULEVARD</td>\n",
       "      <td>SUITE 500</td>\n",
       "      <td>...</td>\n",
       "      <td>2014.0</td>\n",
       "      <td>OFLC ONLINE DATA CENTER</td>\n",
       "      <td>110000 -</td>\n",
       "      <td>Year</td>\n",
       "      <td>Y</td>\n",
       "      <td>N</td>\n",
       "      <td>NEW ALBANY</td>\n",
       "      <td>FRANKLIN</td>\n",
       "      <td>OH</td>\n",
       "      <td>43054</td>\n",
       "    </tr>\n",
       "  </tbody>\n",
       "</table>\n",
       "<p>5 rows × 40 columns</p>\n",
       "</div>"
      ],
      "text/plain": [
       "                 ID          CASE_STATUS CASE_SUBMITTED DECISION_DATE  \\\n",
       "291762  2015_291763            CERTIFIED      3/10/2015     3/16/2015   \n",
       "70461    2015_70462            CERTIFIED     11/12/2014    11/18/2014   \n",
       "459062  2015_459063            CERTIFIED      5/15/2015     5/21/2015   \n",
       "577358  2015_577359            CERTIFIED      8/31/2015      9/5/2015   \n",
       "145515  2015_145516  CERTIFIED-WITHDRAWN      1/29/2015     2/25/2015   \n",
       "\n",
       "       VISA_CLASS EMPLOYMENT_START_DATE EMPLOYMENT_END_DATE  \\\n",
       "291762       H-1B            09/08/2015          09/08/2018   \n",
       "70461        H-1B            11/12/2014          11/12/2017   \n",
       "459062       H-1B            06/01/2015          05/31/2018   \n",
       "577358       H-1B            09/10/2015          09/09/2018   \n",
       "145515       H-1B            07/14/2015          07/14/2018   \n",
       "\n",
       "                                   EMPLOYER_NAME            EMPLOYER_ADDRESS1  \\\n",
       "291762                       VIRTUSA CORPORATION         2000 WEST PARK DRIVE   \n",
       "70461             BUSINESS INTELLI SOLUTIONS INC        4100 SPRING VALLEY RD   \n",
       "459062                          PERCEPTRON, INC.          47827 HALYARD DRIVE   \n",
       "577358  ORACLE FINANCIAL SERVICES SOFTWARE, INC.          399 THORNALL STREET   \n",
       "145515            TECH MAHINDRA (AMERICAS), INC.  4965 PRESTON PARK BOULEVARD   \n",
       "\n",
       "       EMPLOYER_ADDRESS2  ... PW_WAGE_SOURCE_YEAR  \\\n",
       "291762          STE. 300  ...              2015.0   \n",
       "70461        SUITE # 205  ...              2014.0   \n",
       "459062               NaN  ...              2015.0   \n",
       "577358               NaN  ...              2015.0   \n",
       "145515         SUITE 500  ...              2014.0   \n",
       "\n",
       "                    PW_WAGE_SOURCE_OTHER WAGE_RATE_OF_PAY WAGE_UNIT_OF_PAY  \\\n",
       "291762           OFLC ONLINE DATA CENTER          80995 -             Year   \n",
       "70461            OFLC ONLINE DATA CENTER          50565 -             Year   \n",
       "459062           OFLC ONLINE DATA CENTER         118000 -             Year   \n",
       "577358  RADFORD GLOBAL TECHNOLOGY SURVEY  100410 - 139132             Year   \n",
       "145515           OFLC ONLINE DATA CENTER         110000 -             Year   \n",
       "\n",
       "       H-1B_DEPENDENT  WILLFUL VIOLATOR  WORKSITE_CITY WORKSITE_COUNTY  \\\n",
       "291762              Y                 N       NEW YORK        NEW YORK   \n",
       "70461               Y                 N         EDINA,        HENNEPIN   \n",
       "459062              N                 N       PLYMOUTH           WAYNE   \n",
       "577358              N                 N        NORWALK       FAIRFIELD   \n",
       "145515              Y                 N     NEW ALBANY        FRANKLIN   \n",
       "\n",
       "       WORKSITE_STATE WORKSITE_POSTAL_CODE  \n",
       "291762             NY                10005  \n",
       "70461              MN                55435  \n",
       "459062             MI                48170  \n",
       "577358             CT                06850  \n",
       "145515             OH                43054  \n",
       "\n",
       "[5 rows x 40 columns]"
      ]
     },
     "execution_count": 6,
     "metadata": {},
     "output_type": "execute_result"
    }
   ],
   "source": [
    "# Some sample data for 2015 file\n",
    "df_2015.sample(5)"
   ]
  },
  {
   "cell_type": "markdown",
   "id": "25f0df83",
   "metadata": {},
   "source": [
    "### Analyzing 2016 file\n",
    "\n",
    "Let's do the same for 2016 file"
   ]
  },
  {
   "cell_type": "code",
   "execution_count": 7,
   "id": "2bc5c99f",
   "metadata": {},
   "outputs": [
    {
     "name": "stdout",
     "output_type": "stream",
     "text": [
      "ID\n",
      "CASE_STATUS\n",
      "CASE_SUBMITTED\n",
      "DECISION_DATE\n",
      "VISA_CLASS\n",
      "EMPLOYMENT_START_DATE\n",
      "EMPLOYMENT_END_DATE\n",
      "EMPLOYER_NAME\n",
      "EMPLOYER_ADDRESS\n",
      "EMPLOYER_CITY\n",
      "EMPLOYER_STATE\n",
      "EMPLOYER_POSTAL_CODE\n",
      "EMPLOYER_COUNTRY\n",
      "EMPLOYER_PROVINCE\n",
      "EMPLOYER_PHONE\n",
      "EMPLOYER_PHONE_EXT\n",
      "AGENT_ATTORNEY_NAME\n",
      "AGENT_ATTORNEY_CITY\n",
      "AGENT_ATTORNEY_STATE\n",
      "JOB_TITLE\n",
      "SOC_CODE\n",
      "SOC_NAME\n",
      "NAIC_CODE\n",
      "TOTAL_WORKERS\n",
      "FULL_TIME_POSITION\n",
      "PREVAILING_WAGE\n",
      "PW_UNIT_OF_PAY\n",
      "PW_WAGE_SOURCE\n",
      "PW_SOURCE_YEAR\n",
      "PW_SOURCE_OTHER\n",
      "WAGE_RATE_OF_PAY_FROM\n",
      "WAGE_RATE_OF_PAY_TO\n",
      "WAGE_UNIT_OF_PAY\n",
      "H-1B_DEPENDENT\n",
      "WILLFUL_VIOLATOR\n",
      "WORKSITE_CITY\n",
      "WORKSITE_COUNTY\n",
      "WORKSITE_STATE\n",
      "WORKSITE_POSTAL_CODE\n",
      "ORIGINAL_CERT_DATE\n"
     ]
    }
   ],
   "source": [
    "# Print all columns in the DataFrame\n",
    "for col in df_2016.columns:\n",
    "    print(col)"
   ]
  },
  {
   "cell_type": "code",
   "execution_count": 8,
   "id": "8d6fd8cf",
   "metadata": {},
   "outputs": [
    {
     "data": {
      "text/html": [
       "<div>\n",
       "<style scoped>\n",
       "    .dataframe tbody tr th:only-of-type {\n",
       "        vertical-align: middle;\n",
       "    }\n",
       "\n",
       "    .dataframe tbody tr th {\n",
       "        vertical-align: top;\n",
       "    }\n",
       "\n",
       "    .dataframe thead th {\n",
       "        text-align: right;\n",
       "    }\n",
       "</style>\n",
       "<table border=\"1\" class=\"dataframe\">\n",
       "  <thead>\n",
       "    <tr style=\"text-align: right;\">\n",
       "      <th></th>\n",
       "      <th>ID</th>\n",
       "      <th>CASE_STATUS</th>\n",
       "      <th>CASE_SUBMITTED</th>\n",
       "      <th>DECISION_DATE</th>\n",
       "      <th>VISA_CLASS</th>\n",
       "      <th>EMPLOYMENT_START_DATE</th>\n",
       "      <th>EMPLOYMENT_END_DATE</th>\n",
       "      <th>EMPLOYER_NAME</th>\n",
       "      <th>EMPLOYER_ADDRESS</th>\n",
       "      <th>EMPLOYER_CITY</th>\n",
       "      <th>...</th>\n",
       "      <th>WAGE_RATE_OF_PAY_FROM</th>\n",
       "      <th>WAGE_RATE_OF_PAY_TO</th>\n",
       "      <th>WAGE_UNIT_OF_PAY</th>\n",
       "      <th>H-1B_DEPENDENT</th>\n",
       "      <th>WILLFUL_VIOLATOR</th>\n",
       "      <th>WORKSITE_CITY</th>\n",
       "      <th>WORKSITE_COUNTY</th>\n",
       "      <th>WORKSITE_STATE</th>\n",
       "      <th>WORKSITE_POSTAL_CODE</th>\n",
       "      <th>ORIGINAL_CERT_DATE</th>\n",
       "    </tr>\n",
       "  </thead>\n",
       "  <tbody>\n",
       "    <tr>\n",
       "      <th>143414</th>\n",
       "      <td>2016_143415</td>\n",
       "      <td>CERTIFIED</td>\n",
       "      <td>3/14/2016</td>\n",
       "      <td>3/18/2016</td>\n",
       "      <td>H-1B</td>\n",
       "      <td>9/13/2016</td>\n",
       "      <td>9/12/2019</td>\n",
       "      <td>NORTH DOME SOLUTIONS</td>\n",
       "      <td>21135 WHITFIELD PLACE, SUITE # 207</td>\n",
       "      <td>STERLING</td>\n",
       "      <td>...</td>\n",
       "      <td>63,814.00</td>\n",
       "      <td>0</td>\n",
       "      <td>Year</td>\n",
       "      <td>Y</td>\n",
       "      <td>N</td>\n",
       "      <td>STERLING</td>\n",
       "      <td>LOUDOUN</td>\n",
       "      <td>VA</td>\n",
       "      <td>20165</td>\n",
       "      <td>NaN</td>\n",
       "    </tr>\n",
       "    <tr>\n",
       "      <th>373019</th>\n",
       "      <td>2016_373020</td>\n",
       "      <td>CERTIFIED</td>\n",
       "      <td>5/16/2016</td>\n",
       "      <td>5/20/2016</td>\n",
       "      <td>H-1B</td>\n",
       "      <td>5/17/2016</td>\n",
       "      <td>5/16/2019</td>\n",
       "      <td>RITE PROS INC</td>\n",
       "      <td>415 CONGRESS ST</td>\n",
       "      <td>PORTLAND</td>\n",
       "      <td>...</td>\n",
       "      <td>75,000.00</td>\n",
       "      <td>0</td>\n",
       "      <td>Year</td>\n",
       "      <td>Y</td>\n",
       "      <td>N</td>\n",
       "      <td>BOSTON</td>\n",
       "      <td>SUFFOLK</td>\n",
       "      <td>MA</td>\n",
       "      <td>2210</td>\n",
       "      <td>NaN</td>\n",
       "    </tr>\n",
       "    <tr>\n",
       "      <th>250091</th>\n",
       "      <td>2016_250092</td>\n",
       "      <td>CERTIFIED</td>\n",
       "      <td>3/17/2016</td>\n",
       "      <td>3/23/2016</td>\n",
       "      <td>H-1B</td>\n",
       "      <td>7/20/2016</td>\n",
       "      <td>7/19/2019</td>\n",
       "      <td>SEAL CONSULTING, INC.</td>\n",
       "      <td>105 FIELDCREST AVENUE</td>\n",
       "      <td>EDISON</td>\n",
       "      <td>...</td>\n",
       "      <td>60,000.00</td>\n",
       "      <td>105,000.00</td>\n",
       "      <td>Year</td>\n",
       "      <td>Y</td>\n",
       "      <td>N</td>\n",
       "      <td>ST. LOUIS</td>\n",
       "      <td>SAINT LOUIS</td>\n",
       "      <td>MO</td>\n",
       "      <td>63167</td>\n",
       "      <td>NaN</td>\n",
       "    </tr>\n",
       "    <tr>\n",
       "      <th>164989</th>\n",
       "      <td>2016_164990</td>\n",
       "      <td>CERTIFIED</td>\n",
       "      <td>4/29/2016</td>\n",
       "      <td>5/5/2016</td>\n",
       "      <td>H-1B</td>\n",
       "      <td>5/23/2016</td>\n",
       "      <td>5/23/2019</td>\n",
       "      <td>RJT COMPUQUEST, INC.</td>\n",
       "      <td>222 N SEPULVEDA BLVD.</td>\n",
       "      <td>EL SEGUNDO</td>\n",
       "      <td>...</td>\n",
       "      <td>65,000.00</td>\n",
       "      <td>0</td>\n",
       "      <td>Year</td>\n",
       "      <td>Y</td>\n",
       "      <td>N</td>\n",
       "      <td>SAN DIEGO</td>\n",
       "      <td>SAN DIEGO</td>\n",
       "      <td>CA</td>\n",
       "      <td>92121</td>\n",
       "      <td>NaN</td>\n",
       "    </tr>\n",
       "    <tr>\n",
       "      <th>374406</th>\n",
       "      <td>2016_374407</td>\n",
       "      <td>CERTIFIED</td>\n",
       "      <td>5/25/2016</td>\n",
       "      <td>6/1/2016</td>\n",
       "      <td>H-1B</td>\n",
       "      <td>5/25/2016</td>\n",
       "      <td>5/25/2019</td>\n",
       "      <td>TRIBRIDGE HOLDINGS LLC</td>\n",
       "      <td>4830 WEST KENNEDY BLVD.</td>\n",
       "      <td>TAMPA</td>\n",
       "      <td>...</td>\n",
       "      <td>103,680.00</td>\n",
       "      <td>0</td>\n",
       "      <td>Year</td>\n",
       "      <td>N</td>\n",
       "      <td>N</td>\n",
       "      <td>PLANO</td>\n",
       "      <td>COLLIN</td>\n",
       "      <td>TX</td>\n",
       "      <td>75024</td>\n",
       "      <td>NaN</td>\n",
       "    </tr>\n",
       "  </tbody>\n",
       "</table>\n",
       "<p>5 rows × 40 columns</p>\n",
       "</div>"
      ],
      "text/plain": [
       "                 ID CASE_STATUS CASE_SUBMITTED DECISION_DATE VISA_CLASS  \\\n",
       "143414  2016_143415   CERTIFIED      3/14/2016     3/18/2016       H-1B   \n",
       "373019  2016_373020   CERTIFIED      5/16/2016     5/20/2016       H-1B   \n",
       "250091  2016_250092   CERTIFIED      3/17/2016     3/23/2016       H-1B   \n",
       "164989  2016_164990   CERTIFIED      4/29/2016      5/5/2016       H-1B   \n",
       "374406  2016_374407   CERTIFIED      5/25/2016      6/1/2016       H-1B   \n",
       "\n",
       "       EMPLOYMENT_START_DATE EMPLOYMENT_END_DATE           EMPLOYER_NAME  \\\n",
       "143414             9/13/2016           9/12/2019    NORTH DOME SOLUTIONS   \n",
       "373019             5/17/2016           5/16/2019           RITE PROS INC   \n",
       "250091             7/20/2016           7/19/2019   SEAL CONSULTING, INC.   \n",
       "164989             5/23/2016           5/23/2019    RJT COMPUQUEST, INC.   \n",
       "374406             5/25/2016           5/25/2019  TRIBRIDGE HOLDINGS LLC   \n",
       "\n",
       "                          EMPLOYER_ADDRESS EMPLOYER_CITY  ...  \\\n",
       "143414  21135 WHITFIELD PLACE, SUITE # 207      STERLING  ...   \n",
       "373019                     415 CONGRESS ST      PORTLAND  ...   \n",
       "250091               105 FIELDCREST AVENUE        EDISON  ...   \n",
       "164989               222 N SEPULVEDA BLVD.    EL SEGUNDO  ...   \n",
       "374406             4830 WEST KENNEDY BLVD.         TAMPA  ...   \n",
       "\n",
       "       WAGE_RATE_OF_PAY_FROM WAGE_RATE_OF_PAY_TO WAGE_UNIT_OF_PAY  \\\n",
       "143414             63,814.00                   0             Year   \n",
       "373019             75,000.00                   0             Year   \n",
       "250091             60,000.00          105,000.00             Year   \n",
       "164989             65,000.00                   0             Year   \n",
       "374406            103,680.00                   0             Year   \n",
       "\n",
       "       H-1B_DEPENDENT WILLFUL_VIOLATOR WORKSITE_CITY WORKSITE_COUNTY  \\\n",
       "143414              Y                N      STERLING         LOUDOUN   \n",
       "373019              Y                N        BOSTON         SUFFOLK   \n",
       "250091              Y                N     ST. LOUIS     SAINT LOUIS   \n",
       "164989              Y                N     SAN DIEGO       SAN DIEGO   \n",
       "374406              N                N         PLANO          COLLIN   \n",
       "\n",
       "       WORKSITE_STATE WORKSITE_POSTAL_CODE ORIGINAL_CERT_DATE  \n",
       "143414             VA                20165                NaN  \n",
       "373019             MA                 2210                NaN  \n",
       "250091             MO                63167                NaN  \n",
       "164989             CA                92121                NaN  \n",
       "374406             TX                75024                NaN  \n",
       "\n",
       "[5 rows x 40 columns]"
      ]
     },
     "execution_count": 8,
     "metadata": {},
     "output_type": "execute_result"
    }
   ],
   "source": [
    "# Some sample data for 2016 file\n",
    "df_2016.sample(5)"
   ]
  },
  {
   "cell_type": "markdown",
   "id": "63ae29a3",
   "metadata": {},
   "source": [
    "After listing the columns and the seeing some data in these files, we can see that the data is stored in a slightly different way for each of these years. The columns present in these files are not consistent and the data they contain are also in a different format such as date and wage range. The next step is to select a list of colum  we want to perform analysis on, rename them to make the names consistent across the files and merge them into a single dataframe before we do our preprocessing and data cleaning."
   ]
  },
  {
   "cell_type": "markdown",
   "id": "3831813c",
   "metadata": {},
   "source": [
    "# Merging 2014, 2015 and 2016 data\n",
    "\n",
    "First let's select the columns that might be required in our analysis, rename them to make the names consistent and merge them into a single file."
   ]
  },
  {
   "cell_type": "code",
   "execution_count": 9,
   "id": "b10095f6",
   "metadata": {},
   "outputs": [],
   "source": [
    "# Rename 2014 dataframe columns\n",
    "h1b_2014 = df_2014.loc[:, ['ID', 'STATUS', 'LCA_CASE_SUBMIT','DECISION_DATE', 'VISA_CLASS','LCA_CASE_EMPLOYMENT_START_DATE', 'LCA_CASE_EMPLOYMENT_END_DATE', 'LCA_CASE_EMPLOYER_NAME', 'LCA_CASE_EMPLOYER_STATE', 'LCA_CASE_JOB_TITLE', 'LCA_CASE_WAGE_RATE_FROM', 'LCA_CASE_WAGE_RATE_TO','LCA_CASE_WAGE_RATE_UNIT', 'LCA_CASE_WORKLOC1_STATE', 'PW_1', 'PW_UNIT_1']].rename(columns={'LCA_CASE_SUBMIT': 'CASE_SUBMIT_DATE', 'LCA_CASE_EMPLOYMENT_START_DATE' :'EMP_START_DATE', 'LCA_CASE_EMPLOYMENT_END_DATE':'EMP_END_DATE', 'LCA_CASE_EMPLOYER_NAME':'EMP_NAME', 'LCA_CASE_EMPLOYER_STATE':'EMP_STATE','LCA_CASE_JOB_TITLE':'JOB_TITLE','LCA_CASE_WAGE_RATE_FROM':'WAGE_RATE_FROM','LCA_CASE_WAGE_RATE_TO':'WAGE_RATE_TO','LCA_CASE_WAGE_RATE_UNIT':'WAGE_RATE_UNIT', 'LCA_CASE_WORKLOC1_STATE':'WORKSITE_STATE','PW_1':'BASE_PAY', 'PW_UNIT_1':'BASE_PAY_UNIT'})\n",
    "\n",
    "# Rename 2015 dataframe columns\n",
    "h1b_2015 = df_2015.loc[:, ['ID', 'CASE_STATUS', 'CASE_SUBMITTED','DECISION_DATE','VISA_CLASS','EMPLOYMENT_START_DATE', 'EMPLOYMENT_END_DATE', 'EMPLOYER_NAME', 'EMPLOYER_STATE', 'JOB_TITLE', 'WAGE_RATE_OF_PAY', 'WAGE_UNIT_OF_PAY', 'WORKSITE_STATE', 'PREVAILING_WAGE', 'PW_UNIT_OF_PAY']].rename(columns={'CASE_STATUS': 'STATUS', 'CASE_SUBMITTED':'CASE_SUBMIT_DATE', 'EMPLOYMENT_START_DATE':'EMP_START_DATE','EMPLOYMENT_END_DATE':'EMP_END_DATE', 'EMPLOYER_NAME':'EMP_NAME', 'EMPLOYER_STATE':'EMP_STATE', 'WAGE_RATE_OF_PAY':'WAGE_RATE', 'WAGE_UNIT_OF_PAY':'WAGE_RATE_UNIT', 'PREVAILING_WAGE':'BASE_PAY', 'PW_UNIT_OF_PAY':'BASE_PAY_UNIT'})\n",
    "\n",
    "# The year 2015 has wage range in a singloe column seperaetd by -. Let's split them into tow columns\n",
    "h1b_2015[['WAGE_RATE_FROM', 'WAGE_RATE_TO']] = h1b_2015['WAGE_RATE'].str.split(' - ', expand=True)\n",
    "h1b_2015['WAGE_RATE_FROM'] = h1b_2015['WAGE_RATE_FROM'].str.replace('-', '')\n",
    "h1b_2015['WAGE_RATE_TO'] = h1b_2015['WAGE_RATE_TO'].str.replace('-', '')\n",
    "# remove the original column\n",
    "h1b_2015.drop(columns=['WAGE_RATE'], inplace=True)\n",
    "\n",
    "# Rename 2015 dataframe columns\n",
    "h1b_2016 = df_2016.loc[:, ['ID', 'CASE_STATUS', 'CASE_SUBMITTED','DECISION_DATE','VISA_CLASS','EMPLOYMENT_START_DATE', 'EMPLOYMENT_END_DATE', 'EMPLOYER_NAME', 'EMPLOYER_STATE', 'JOB_TITLE', 'WAGE_RATE_OF_PAY_FROM','WAGE_RATE_OF_PAY_TO', 'WAGE_UNIT_OF_PAY', 'WORKSITE_STATE', 'PREVAILING_WAGE', 'PW_UNIT_OF_PAY']].rename(columns={'CASE_STATUS': 'STATUS', 'CASE_SUBMITTED':'CASE_SUBMIT_DATE', 'EMPLOYMENT_START_DATE':'EMP_START_DATE','EMPLOYMENT_END_DATE':'EMP_END_DATE', 'EMPLOYER_NAME':'EMP_NAME', 'EMPLOYER_STATE':'EMP_STATE', 'WAGE_RATE_OF_PAY_FROM':'WAGE_RATE_FROM','WAGE_RATE_OF_PAY_TO':'WAGE_RATE_TO', 'WAGE_UNIT_OF_PAY':'WAGE_RATE_UNIT', 'PREVAILING_WAGE':'BASE_PAY', 'PW_UNIT_OF_PAY':'BASE_PAY_UNIT'})"
   ]
  },
  {
   "cell_type": "markdown",
   "id": "72d54c5b",
   "metadata": {},
   "source": [
    "Let's add another column in each of those files indicating which year are those data from. This data will be stored in a column named YEAR in the dataframes. After that we will merge these dataframes using pd.concat and store them as a new dataframe named result."
   ]
  },
  {
   "cell_type": "code",
   "execution_count": 10,
   "id": "219fa964",
   "metadata": {},
   "outputs": [],
   "source": [
    "# Add a new column 'YEAR' to h1b_2014 and set the values to 2014\n",
    "h1b_2014['YEAR'] = 2014\n",
    "\n",
    "# Add a new column 'YEAR' to h1b_2015 and set the values to 2015\n",
    "h1b_2015['YEAR'] = 2015\n",
    "\n",
    "# Add a new column 'YEAR' to h1b_2016 and set the values to 2016\n",
    "h1b_2016['YEAR'] = 2016\n",
    "\n",
    "# Store the result as a new dataframe named result\n",
    "result = pd.concat([h1b_2014, h1b_2015, h1b_2016])"
   ]
  },
  {
   "cell_type": "markdown",
   "id": "c648f64c",
   "metadata": {},
   "source": [
    "# Analyzing the result dataframe"
   ]
  },
  {
   "cell_type": "code",
   "execution_count": 11,
   "id": "ac9ff87e",
   "metadata": {},
   "outputs": [
    {
     "name": "stdout",
     "output_type": "stream",
     "text": [
      "ID\n",
      "STATUS\n",
      "CASE_SUBMIT_DATE\n",
      "DECISION_DATE\n",
      "VISA_CLASS\n",
      "EMP_START_DATE\n",
      "EMP_END_DATE\n",
      "EMP_NAME\n",
      "EMP_STATE\n",
      "JOB_TITLE\n",
      "WAGE_RATE_FROM\n",
      "WAGE_RATE_TO\n",
      "WAGE_RATE_UNIT\n",
      "WORKSITE_STATE\n",
      "BASE_PAY\n",
      "BASE_PAY_UNIT\n",
      "YEAR\n"
     ]
    }
   ],
   "source": [
    "# Print all columns in the DataFrame\n",
    "for col in result.columns:\n",
    "    print(col)"
   ]
  },
  {
   "cell_type": "code",
   "execution_count": 12,
   "id": "3be6872a",
   "metadata": {},
   "outputs": [
    {
     "data": {
      "text/html": [
       "<div>\n",
       "<style scoped>\n",
       "    .dataframe tbody tr th:only-of-type {\n",
       "        vertical-align: middle;\n",
       "    }\n",
       "\n",
       "    .dataframe tbody tr th {\n",
       "        vertical-align: top;\n",
       "    }\n",
       "\n",
       "    .dataframe thead th {\n",
       "        text-align: right;\n",
       "    }\n",
       "</style>\n",
       "<table border=\"1\" class=\"dataframe\">\n",
       "  <thead>\n",
       "    <tr style=\"text-align: right;\">\n",
       "      <th></th>\n",
       "      <th>ID</th>\n",
       "      <th>STATUS</th>\n",
       "      <th>CASE_SUBMIT_DATE</th>\n",
       "      <th>DECISION_DATE</th>\n",
       "      <th>VISA_CLASS</th>\n",
       "      <th>EMP_START_DATE</th>\n",
       "      <th>EMP_END_DATE</th>\n",
       "      <th>EMP_NAME</th>\n",
       "      <th>EMP_STATE</th>\n",
       "      <th>JOB_TITLE</th>\n",
       "      <th>WAGE_RATE_FROM</th>\n",
       "      <th>WAGE_RATE_TO</th>\n",
       "      <th>WAGE_RATE_UNIT</th>\n",
       "      <th>WORKSITE_STATE</th>\n",
       "      <th>BASE_PAY</th>\n",
       "      <th>BASE_PAY_UNIT</th>\n",
       "      <th>YEAR</th>\n",
       "    </tr>\n",
       "  </thead>\n",
       "  <tbody>\n",
       "    <tr>\n",
       "      <th>356736</th>\n",
       "      <td>2016_356737</td>\n",
       "      <td>CERTIFIED</td>\n",
       "      <td>3/22/2016</td>\n",
       "      <td>3/28/2016</td>\n",
       "      <td>H-1B</td>\n",
       "      <td>9/15/2016</td>\n",
       "      <td>9/15/2019</td>\n",
       "      <td>TEK AND COMPANY</td>\n",
       "      <td>GA</td>\n",
       "      <td>SOFTWARE DEVELOPER</td>\n",
       "      <td>62,000.00</td>\n",
       "      <td>0</td>\n",
       "      <td>Year</td>\n",
       "      <td>GA</td>\n",
       "      <td>57,325.00</td>\n",
       "      <td>Year</td>\n",
       "      <td>2016</td>\n",
       "    </tr>\n",
       "    <tr>\n",
       "      <th>386046</th>\n",
       "      <td>2016_386047</td>\n",
       "      <td>CERTIFIED</td>\n",
       "      <td>7/11/2016</td>\n",
       "      <td>7/15/2016</td>\n",
       "      <td>H-1B</td>\n",
       "      <td>8/12/2016</td>\n",
       "      <td>8/12/2019</td>\n",
       "      <td>GOORIN BROS INC.</td>\n",
       "      <td>CA</td>\n",
       "      <td>DATABASE DEVELOPER</td>\n",
       "      <td>92,000.00</td>\n",
       "      <td>0</td>\n",
       "      <td>Year</td>\n",
       "      <td>CA</td>\n",
       "      <td>80,184.00</td>\n",
       "      <td>Year</td>\n",
       "      <td>2016</td>\n",
       "    </tr>\n",
       "    <tr>\n",
       "      <th>99539</th>\n",
       "      <td>2016_99540</td>\n",
       "      <td>CERTIFIED</td>\n",
       "      <td>1/4/2016</td>\n",
       "      <td>1/8/2016</td>\n",
       "      <td>H-1B</td>\n",
       "      <td>4/11/2016</td>\n",
       "      <td>4/11/2019</td>\n",
       "      <td>TYCO ELECTRONICS CORPORATION, A TE CONNECTIVIT...</td>\n",
       "      <td>PA</td>\n",
       "      <td>IT DATA ANALYST</td>\n",
       "      <td>90,000.00</td>\n",
       "      <td>105,000.00</td>\n",
       "      <td>Year</td>\n",
       "      <td>PA</td>\n",
       "      <td>86,445.00</td>\n",
       "      <td>Year</td>\n",
       "      <td>2016</td>\n",
       "    </tr>\n",
       "    <tr>\n",
       "      <th>226228</th>\n",
       "      <td>2015_226229</td>\n",
       "      <td>CERTIFIED</td>\n",
       "      <td>2/27/2015</td>\n",
       "      <td>3/9/2015</td>\n",
       "      <td>H-1B</td>\n",
       "      <td>08/27/2015</td>\n",
       "      <td>08/26/2018</td>\n",
       "      <td>DELL USA L.P.</td>\n",
       "      <td>TX</td>\n",
       "      <td>SALES SUPPORT SR. ADVISOR</td>\n",
       "      <td>94000</td>\n",
       "      <td>None</td>\n",
       "      <td>Year</td>\n",
       "      <td>TX</td>\n",
       "      <td>78697.0</td>\n",
       "      <td>Year</td>\n",
       "      <td>2015</td>\n",
       "    </tr>\n",
       "    <tr>\n",
       "      <th>241356</th>\n",
       "      <td>2016_241357</td>\n",
       "      <td>CERTIFIED</td>\n",
       "      <td>3/11/2016</td>\n",
       "      <td>3/17/2016</td>\n",
       "      <td>H-1B</td>\n",
       "      <td>9/10/2016</td>\n",
       "      <td>9/10/2019</td>\n",
       "      <td>AGILITY TECHNOLOGIES, LLC</td>\n",
       "      <td>GA</td>\n",
       "      <td>PROGRAMMER ANALYST</td>\n",
       "      <td>65,000.00</td>\n",
       "      <td>0</td>\n",
       "      <td>Year</td>\n",
       "      <td>NH</td>\n",
       "      <td>39,541.00</td>\n",
       "      <td>Year</td>\n",
       "      <td>2016</td>\n",
       "    </tr>\n",
       "  </tbody>\n",
       "</table>\n",
       "</div>"
      ],
      "text/plain": [
       "                 ID     STATUS CASE_SUBMIT_DATE DECISION_DATE VISA_CLASS  \\\n",
       "356736  2016_356737  CERTIFIED        3/22/2016     3/28/2016       H-1B   \n",
       "386046  2016_386047  CERTIFIED        7/11/2016     7/15/2016       H-1B   \n",
       "99539    2016_99540  CERTIFIED         1/4/2016      1/8/2016       H-1B   \n",
       "226228  2015_226229  CERTIFIED        2/27/2015      3/9/2015       H-1B   \n",
       "241356  2016_241357  CERTIFIED        3/11/2016     3/17/2016       H-1B   \n",
       "\n",
       "       EMP_START_DATE EMP_END_DATE  \\\n",
       "356736      9/15/2016    9/15/2019   \n",
       "386046      8/12/2016    8/12/2019   \n",
       "99539       4/11/2016    4/11/2019   \n",
       "226228     08/27/2015   08/26/2018   \n",
       "241356      9/10/2016    9/10/2019   \n",
       "\n",
       "                                                 EMP_NAME EMP_STATE  \\\n",
       "356736                                    TEK AND COMPANY        GA   \n",
       "386046                                   GOORIN BROS INC.        CA   \n",
       "99539   TYCO ELECTRONICS CORPORATION, A TE CONNECTIVIT...        PA   \n",
       "226228                                      DELL USA L.P.        TX   \n",
       "241356                          AGILITY TECHNOLOGIES, LLC        GA   \n",
       "\n",
       "                        JOB_TITLE WAGE_RATE_FROM WAGE_RATE_TO WAGE_RATE_UNIT  \\\n",
       "356736         SOFTWARE DEVELOPER      62,000.00            0           Year   \n",
       "386046         DATABASE DEVELOPER      92,000.00            0           Year   \n",
       "99539             IT DATA ANALYST      90,000.00   105,000.00           Year   \n",
       "226228  SALES SUPPORT SR. ADVISOR         94000          None           Year   \n",
       "241356         PROGRAMMER ANALYST      65,000.00            0           Year   \n",
       "\n",
       "       WORKSITE_STATE   BASE_PAY BASE_PAY_UNIT  YEAR  \n",
       "356736             GA  57,325.00          Year  2016  \n",
       "386046             CA  80,184.00          Year  2016  \n",
       "99539              PA  86,445.00          Year  2016  \n",
       "226228             TX    78697.0          Year  2015  \n",
       "241356             NH  39,541.00          Year  2016  "
      ]
     },
     "execution_count": 12,
     "metadata": {},
     "output_type": "execute_result"
    }
   ],
   "source": [
    "# Sample records\n",
    "result.sample(5)"
   ]
  },
  {
   "cell_type": "markdown",
   "id": "1378e7ee",
   "metadata": {},
   "source": [
    "Now I have merged three dataframes into a single one with a consistent column names. I can see from the sample records that thedata stored are incinsistent and needs to be preprocessed and cleaned."
   ]
  },
  {
   "cell_type": "markdown",
   "id": "60daf78b",
   "metadata": {},
   "source": [
    "### Let's check the data types and make them consistent"
   ]
  },
  {
   "cell_type": "code",
   "execution_count": 13,
   "id": "85c60b91",
   "metadata": {},
   "outputs": [
    {
     "name": "stdout",
     "output_type": "stream",
     "text": [
      "ID                  object\n",
      "STATUS              object\n",
      "CASE_SUBMIT_DATE    object\n",
      "DECISION_DATE       object\n",
      "VISA_CLASS          object\n",
      "EMP_START_DATE      object\n",
      "EMP_END_DATE        object\n",
      "EMP_NAME            object\n",
      "EMP_STATE           object\n",
      "JOB_TITLE           object\n",
      "WAGE_RATE_FROM      object\n",
      "WAGE_RATE_TO        object\n",
      "WAGE_RATE_UNIT      object\n",
      "WORKSITE_STATE      object\n",
      "BASE_PAY            object\n",
      "BASE_PAY_UNIT       object\n",
      "YEAR                 int64\n",
      "dtype: object\n"
     ]
    }
   ],
   "source": [
    "# Printing the datatypes for each columns in the dataframe\n",
    "print(result.dtypes)"
   ]
  },
  {
   "cell_type": "markdown",
   "id": "ff7d4f03",
   "metadata": {},
   "source": [
    "I can see that all of these columns are stored as an object data types. These needs to be consistent before doing any analysis on the data."
   ]
  },
  {
   "cell_type": "code",
   "execution_count": 14,
   "id": "4bf3e94b",
   "metadata": {},
   "outputs": [
    {
     "name": "stderr",
     "output_type": "stream",
     "text": [
      "C:\\Users\\sures\\anaconda3\\lib\\site-packages\\pandas\\core\\tools\\datetimes.py:1047: UserWarning: Parsing '15/04/2015' in DD/MM/YYYY format. Provide format or specify infer_datetime_format=True for consistent parsing.\n",
      "  cache_array = _maybe_cache(arg, format, cache, convert_listlike)\n",
      "C:\\Users\\sures\\anaconda3\\lib\\site-packages\\pandas\\core\\tools\\datetimes.py:1047: UserWarning: Parsing '15/02/2015' in DD/MM/YYYY format. Provide format or specify infer_datetime_format=True for consistent parsing.\n",
      "  cache_array = _maybe_cache(arg, format, cache, convert_listlike)\n",
      "C:\\Users\\sures\\anaconda3\\lib\\site-packages\\pandas\\core\\tools\\datetimes.py:1047: UserWarning: Parsing '15/06/2015' in DD/MM/YYYY format. Provide format or specify infer_datetime_format=True for consistent parsing.\n",
      "  cache_array = _maybe_cache(arg, format, cache, convert_listlike)\n",
      "C:\\Users\\sures\\anaconda3\\lib\\site-packages\\pandas\\core\\tools\\datetimes.py:1047: UserWarning: Parsing '19/03/2015' in DD/MM/YYYY format. Provide format or specify infer_datetime_format=True for consistent parsing.\n",
      "  cache_array = _maybe_cache(arg, format, cache, convert_listlike)\n",
      "C:\\Users\\sures\\anaconda3\\lib\\site-packages\\pandas\\core\\tools\\datetimes.py:1047: UserWarning: Parsing '15/09/2015' in DD/MM/YYYY format. Provide format or specify infer_datetime_format=True for consistent parsing.\n",
      "  cache_array = _maybe_cache(arg, format, cache, convert_listlike)\n",
      "C:\\Users\\sures\\anaconda3\\lib\\site-packages\\pandas\\core\\tools\\datetimes.py:1047: UserWarning: Parsing '14/08/2015' in DD/MM/YYYY format. Provide format or specify infer_datetime_format=True for consistent parsing.\n",
      "  cache_array = _maybe_cache(arg, format, cache, convert_listlike)\n",
      "C:\\Users\\sures\\anaconda3\\lib\\site-packages\\pandas\\core\\tools\\datetimes.py:1047: UserWarning: Parsing '17/04/2015' in DD/MM/YYYY format. Provide format or specify infer_datetime_format=True for consistent parsing.\n",
      "  cache_array = _maybe_cache(arg, format, cache, convert_listlike)\n",
      "C:\\Users\\sures\\anaconda3\\lib\\site-packages\\pandas\\core\\tools\\datetimes.py:1047: UserWarning: Parsing '31/07/2018' in DD/MM/YYYY format. Provide format or specify infer_datetime_format=True for consistent parsing.\n",
      "  cache_array = _maybe_cache(arg, format, cache, convert_listlike)\n",
      "C:\\Users\\sures\\anaconda3\\lib\\site-packages\\pandas\\core\\tools\\datetimes.py:1047: UserWarning: Parsing '30/09/2017' in DD/MM/YYYY format. Provide format or specify infer_datetime_format=True for consistent parsing.\n",
      "  cache_array = _maybe_cache(arg, format, cache, convert_listlike)\n",
      "C:\\Users\\sures\\anaconda3\\lib\\site-packages\\pandas\\core\\tools\\datetimes.py:1047: UserWarning: Parsing '31/10/2017' in DD/MM/YYYY format. Provide format or specify infer_datetime_format=True for consistent parsing.\n",
      "  cache_array = _maybe_cache(arg, format, cache, convert_listlike)\n",
      "C:\\Users\\sures\\anaconda3\\lib\\site-packages\\pandas\\core\\tools\\datetimes.py:1047: UserWarning: Parsing '15/04/2018' in DD/MM/YYYY format. Provide format or specify infer_datetime_format=True for consistent parsing.\n",
      "  cache_array = _maybe_cache(arg, format, cache, convert_listlike)\n",
      "C:\\Users\\sures\\anaconda3\\lib\\site-packages\\pandas\\core\\tools\\datetimes.py:1047: UserWarning: Parsing '30/06/2018' in DD/MM/YYYY format. Provide format or specify infer_datetime_format=True for consistent parsing.\n",
      "  cache_array = _maybe_cache(arg, format, cache, convert_listlike)\n",
      "C:\\Users\\sures\\anaconda3\\lib\\site-packages\\pandas\\core\\tools\\datetimes.py:1047: UserWarning: Parsing '15/06/2018' in DD/MM/YYYY format. Provide format or specify infer_datetime_format=True for consistent parsing.\n",
      "  cache_array = _maybe_cache(arg, format, cache, convert_listlike)\n",
      "C:\\Users\\sures\\anaconda3\\lib\\site-packages\\pandas\\core\\tools\\datetimes.py:1047: UserWarning: Parsing '31/12/2016' in DD/MM/YYYY format. Provide format or specify infer_datetime_format=True for consistent parsing.\n",
      "  cache_array = _maybe_cache(arg, format, cache, convert_listlike)\n",
      "C:\\Users\\sures\\anaconda3\\lib\\site-packages\\pandas\\core\\tools\\datetimes.py:1047: UserWarning: Parsing '31/08/2018' in DD/MM/YYYY format. Provide format or specify infer_datetime_format=True for consistent parsing.\n",
      "  cache_array = _maybe_cache(arg, format, cache, convert_listlike)\n",
      "C:\\Users\\sures\\anaconda3\\lib\\site-packages\\pandas\\core\\tools\\datetimes.py:1047: UserWarning: Parsing '29/01/2018' in DD/MM/YYYY format. Provide format or specify infer_datetime_format=True for consistent parsing.\n",
      "  cache_array = _maybe_cache(arg, format, cache, convert_listlike)\n",
      "C:\\Users\\sures\\anaconda3\\lib\\site-packages\\pandas\\core\\tools\\datetimes.py:1047: UserWarning: Parsing '18/03/2018' in DD/MM/YYYY format. Provide format or specify infer_datetime_format=True for consistent parsing.\n",
      "  cache_array = _maybe_cache(arg, format, cache, convert_listlike)\n",
      "C:\\Users\\sures\\anaconda3\\lib\\site-packages\\pandas\\core\\tools\\datetimes.py:1047: UserWarning: Parsing '15/09/2018' in DD/MM/YYYY format. Provide format or specify infer_datetime_format=True for consistent parsing.\n",
      "  cache_array = _maybe_cache(arg, format, cache, convert_listlike)\n",
      "C:\\Users\\sures\\anaconda3\\lib\\site-packages\\pandas\\core\\tools\\datetimes.py:1047: UserWarning: Parsing '16/04/2017' in DD/MM/YYYY format. Provide format or specify infer_datetime_format=True for consistent parsing.\n",
      "  cache_array = _maybe_cache(arg, format, cache, convert_listlike)\n",
      "C:\\Users\\sures\\anaconda3\\lib\\site-packages\\pandas\\core\\tools\\datetimes.py:1047: UserWarning: Parsing '31/05/2017' in DD/MM/YYYY format. Provide format or specify infer_datetime_format=True for consistent parsing.\n",
      "  cache_array = _maybe_cache(arg, format, cache, convert_listlike)\n",
      "C:\\Users\\sures\\anaconda3\\lib\\site-packages\\pandas\\core\\tools\\datetimes.py:1047: UserWarning: Parsing '14/06/2017' in DD/MM/YYYY format. Provide format or specify infer_datetime_format=True for consistent parsing.\n",
      "  cache_array = _maybe_cache(arg, format, cache, convert_listlike)\n"
     ]
    }
   ],
   "source": [
    "# Converting each of the columns to a suitable data types\n",
    "\n",
    "result['ID'] = result['ID'].astype(str)\n",
    "result['STATUS'] = result['STATUS'].astype('category')\n",
    "result['CASE_SUBMIT_DATE'] = pd.to_datetime(result['CASE_SUBMIT_DATE'], errors='coerce')\n",
    "result['DECISION_DATE'] = pd.to_datetime(result['DECISION_DATE'], errors='coerce')\n",
    "result['VISA_CLASS'] = result['VISA_CLASS'].astype(str)\n",
    "result['EMP_START_DATE'] = pd.to_datetime(result['EMP_START_DATE'], errors='coerce')\n",
    "result['EMP_END_DATE'] = pd.to_datetime(result['EMP_END_DATE'], errors='coerce')\n",
    "result['EMP_NAME'] = result['EMP_NAME'].astype(str)\n",
    "result['EMP_STATE'] = result['EMP_STATE'].astype(str)\n",
    "result['JOB_TITLE'] = result['JOB_TITLE'].astype(str)\n",
    "result['WAGE_RATE_FROM'] = pd.to_numeric(result['WAGE_RATE_FROM'].str.strip(), errors='coerce')\n",
    "result['WAGE_RATE_TO'] = pd.to_numeric(result['WAGE_RATE_TO'].str.strip(), errors='coerce')\n",
    "result['WORKSITE_STATE'] = result['WORKSITE_STATE'].astype(str)\n",
    "result['BASE_PAY'] = pd.to_numeric(result['BASE_PAY'].astype(str).str.strip(), errors='coerce')\n",
    "result['BASE_PAY_UNIT'] = result['BASE_PAY_UNIT'].astype(str)"
   ]
  },
  {
   "cell_type": "markdown",
   "id": "5c5893c2",
   "metadata": {},
   "source": [
    "Now the data has been changed to suitable data types, let's check the type for each of these columns once again."
   ]
  },
  {
   "cell_type": "code",
   "execution_count": 15,
   "id": "d61400ec",
   "metadata": {},
   "outputs": [
    {
     "name": "stdout",
     "output_type": "stream",
     "text": [
      "ID                          object\n",
      "STATUS                    category\n",
      "CASE_SUBMIT_DATE    datetime64[ns]\n",
      "DECISION_DATE       datetime64[ns]\n",
      "VISA_CLASS                  object\n",
      "EMP_START_DATE      datetime64[ns]\n",
      "EMP_END_DATE        datetime64[ns]\n",
      "EMP_NAME                    object\n",
      "EMP_STATE                   object\n",
      "JOB_TITLE                   object\n",
      "WAGE_RATE_FROM             float64\n",
      "WAGE_RATE_TO               float64\n",
      "WAGE_RATE_UNIT              object\n",
      "WORKSITE_STATE              object\n",
      "BASE_PAY                   float64\n",
      "BASE_PAY_UNIT               object\n",
      "YEAR                         int64\n",
      "dtype: object\n"
     ]
    }
   ],
   "source": [
    "# Printing the datatypes for each columns in the dataframe\n",
    "print(result.dtypes)"
   ]
  },
  {
   "cell_type": "markdown",
   "id": "6b976350",
   "metadata": {},
   "source": [
    "### Describing the dataframe "
   ]
  },
  {
   "cell_type": "code",
   "execution_count": 16,
   "id": "e880d680",
   "metadata": {},
   "outputs": [
    {
     "name": "stdout",
     "output_type": "stream",
     "text": [
      "<class 'pandas.core.frame.DataFrame'>\n",
      "Int64Index: 1786160 entries, 0 to 647851\n",
      "Data columns (total 17 columns):\n",
      " #   Column            Dtype         \n",
      "---  ------            -----         \n",
      " 0   ID                object        \n",
      " 1   STATUS            category      \n",
      " 2   CASE_SUBMIT_DATE  datetime64[ns]\n",
      " 3   DECISION_DATE     datetime64[ns]\n",
      " 4   VISA_CLASS        object        \n",
      " 5   EMP_START_DATE    datetime64[ns]\n",
      " 6   EMP_END_DATE      datetime64[ns]\n",
      " 7   EMP_NAME          object        \n",
      " 8   EMP_STATE         object        \n",
      " 9   JOB_TITLE         object        \n",
      " 10  WAGE_RATE_FROM    float64       \n",
      " 11  WAGE_RATE_TO      float64       \n",
      " 12  WAGE_RATE_UNIT    object        \n",
      " 13  WORKSITE_STATE    object        \n",
      " 14  BASE_PAY          float64       \n",
      " 15  BASE_PAY_UNIT     object        \n",
      " 16  YEAR              int64         \n",
      "dtypes: category(1), datetime64[ns](4), float64(3), int64(1), object(8)\n",
      "memory usage: 233.4+ MB\n"
     ]
    }
   ],
   "source": [
    "result.info()"
   ]
  },
  {
   "cell_type": "code",
   "execution_count": 17,
   "id": "b074f32c",
   "metadata": {},
   "outputs": [
    {
     "name": "stdout",
     "output_type": "stream",
     "text": [
      "                  null_values  unique_values\n",
      "ID                          0        1786160\n",
      "STATUS                      0              6\n",
      "CASE_SUBMIT_DATE            0           2060\n",
      "DECISION_DATE               0           1065\n",
      "VISA_CLASS                  0              5\n",
      "EMP_START_DATE             42           2316\n",
      "EMP_END_DATE               49           2379\n",
      "EMP_NAME                    0         145985\n",
      "EMP_STATE                   0             57\n",
      "JOB_TITLE                   0         186319\n",
      "WAGE_RATE_FROM        1129203          49794\n",
      "WAGE_RATE_TO          1141000          14501\n",
      "WAGE_RATE_UNIT             76              5\n",
      "WORKSITE_STATE              0             59\n",
      "BASE_PAY               609376          34833\n",
      "BASE_PAY_UNIT               0              6\n",
      "YEAR                        0              3\n"
     ]
    }
   ],
   "source": [
    "# Print the summary including null values and unique values\n",
    "summary = pd.concat([result.isnull().sum(), result.nunique()], axis=1)\n",
    "summary.columns = ['null_values', 'unique_values']\n",
    "print(summary)\n"
   ]
  },
  {
   "cell_type": "markdown",
   "id": "5cc00d99",
   "metadata": {},
   "source": [
    "Let's process and clean columns one by one"
   ]
  },
  {
   "cell_type": "code",
   "execution_count": 18,
   "id": "3c974423",
   "metadata": {},
   "outputs": [
    {
     "data": {
      "text/plain": [
       "CERTIFIED              1572068\n",
       "CERTIFIED-WITHDRAWN     124513\n",
       "WITHDRAWN                57435\n",
       "DENIED                   32141\n",
       "REJECTED                     2\n",
       "INVALIDATED                  1\n",
       "Name: STATUS, dtype: int64"
      ]
     },
     "execution_count": 18,
     "metadata": {},
     "output_type": "execute_result"
    }
   ],
   "source": [
    "# count based on the STATUS column\n",
    "result['STATUS'].value_counts()"
   ]
  },
  {
   "cell_type": "markdown",
   "id": "626008c7",
   "metadata": {},
   "source": [
    "There are 2 REJECTED and 1 INVALIDATED petitions in the data. Let' see the details fot each of those records."
   ]
  },
  {
   "cell_type": "code",
   "execution_count": 19,
   "id": "37242276",
   "metadata": {},
   "outputs": [
    {
     "data": {
      "text/html": [
       "<div>\n",
       "<style scoped>\n",
       "    .dataframe tbody tr th:only-of-type {\n",
       "        vertical-align: middle;\n",
       "    }\n",
       "\n",
       "    .dataframe tbody tr th {\n",
       "        vertical-align: top;\n",
       "    }\n",
       "\n",
       "    .dataframe thead th {\n",
       "        text-align: right;\n",
       "    }\n",
       "</style>\n",
       "<table border=\"1\" class=\"dataframe\">\n",
       "  <thead>\n",
       "    <tr style=\"text-align: right;\">\n",
       "      <th></th>\n",
       "      <th>ID</th>\n",
       "      <th>STATUS</th>\n",
       "      <th>CASE_SUBMIT_DATE</th>\n",
       "      <th>DECISION_DATE</th>\n",
       "      <th>VISA_CLASS</th>\n",
       "      <th>EMP_START_DATE</th>\n",
       "      <th>EMP_END_DATE</th>\n",
       "      <th>EMP_NAME</th>\n",
       "      <th>EMP_STATE</th>\n",
       "      <th>JOB_TITLE</th>\n",
       "      <th>WAGE_RATE_FROM</th>\n",
       "      <th>WAGE_RATE_TO</th>\n",
       "      <th>WAGE_RATE_UNIT</th>\n",
       "      <th>WORKSITE_STATE</th>\n",
       "      <th>BASE_PAY</th>\n",
       "      <th>BASE_PAY_UNIT</th>\n",
       "      <th>YEAR</th>\n",
       "    </tr>\n",
       "  </thead>\n",
       "  <tbody>\n",
       "    <tr>\n",
       "      <th>339079</th>\n",
       "      <td>2014_339080</td>\n",
       "      <td>REJECTED</td>\n",
       "      <td>2014-04-09</td>\n",
       "      <td>2014-04-15</td>\n",
       "      <td>H-1B</td>\n",
       "      <td>2014-04-10</td>\n",
       "      <td>2017-04-09</td>\n",
       "      <td>SUPREME TECH SOLUTIONS LLC</td>\n",
       "      <td>VA</td>\n",
       "      <td>SOFTWARE ANALYST</td>\n",
       "      <td>NaN</td>\n",
       "      <td>NaN</td>\n",
       "      <td>Year</td>\n",
       "      <td>IA</td>\n",
       "      <td>57886.0</td>\n",
       "      <td>Year</td>\n",
       "      <td>2014</td>\n",
       "    </tr>\n",
       "    <tr>\n",
       "      <th>461922</th>\n",
       "      <td>2014_461923</td>\n",
       "      <td>REJECTED</td>\n",
       "      <td>2014-08-06</td>\n",
       "      <td>2014-08-12</td>\n",
       "      <td>H-1B</td>\n",
       "      <td>2014-08-11</td>\n",
       "      <td>2016-08-10</td>\n",
       "      <td>ACCESS THERAPIES, INC.</td>\n",
       "      <td>IN</td>\n",
       "      <td>PHYSICAL THERAPISTS</td>\n",
       "      <td>NaN</td>\n",
       "      <td>NaN</td>\n",
       "      <td>Hour</td>\n",
       "      <td>IN</td>\n",
       "      <td>25.6</td>\n",
       "      <td>Hour</td>\n",
       "      <td>2014</td>\n",
       "    </tr>\n",
       "    <tr>\n",
       "      <th>510441</th>\n",
       "      <td>2014_510442</td>\n",
       "      <td>INVALIDATED</td>\n",
       "      <td>2013-08-06</td>\n",
       "      <td>2014-09-17</td>\n",
       "      <td>E-3 Australian</td>\n",
       "      <td>2014-02-04</td>\n",
       "      <td>2016-02-04</td>\n",
       "      <td>CHROMASUN INC</td>\n",
       "      <td>CA</td>\n",
       "      <td>CHIEF EXECUTIVE OFFICER</td>\n",
       "      <td>NaN</td>\n",
       "      <td>NaN</td>\n",
       "      <td>Year</td>\n",
       "      <td>CA</td>\n",
       "      <td>190195.0</td>\n",
       "      <td>Year</td>\n",
       "      <td>2014</td>\n",
       "    </tr>\n",
       "  </tbody>\n",
       "</table>\n",
       "</div>"
      ],
      "text/plain": [
       "                 ID       STATUS CASE_SUBMIT_DATE DECISION_DATE  \\\n",
       "339079  2014_339080     REJECTED       2014-04-09    2014-04-15   \n",
       "461922  2014_461923     REJECTED       2014-08-06    2014-08-12   \n",
       "510441  2014_510442  INVALIDATED       2013-08-06    2014-09-17   \n",
       "\n",
       "            VISA_CLASS EMP_START_DATE EMP_END_DATE  \\\n",
       "339079            H-1B     2014-04-10   2017-04-09   \n",
       "461922            H-1B     2014-08-11   2016-08-10   \n",
       "510441  E-3 Australian     2014-02-04   2016-02-04   \n",
       "\n",
       "                          EMP_NAME EMP_STATE                JOB_TITLE  \\\n",
       "339079  SUPREME TECH SOLUTIONS LLC        VA         SOFTWARE ANALYST   \n",
       "461922      ACCESS THERAPIES, INC.        IN      PHYSICAL THERAPISTS   \n",
       "510441               CHROMASUN INC        CA  CHIEF EXECUTIVE OFFICER   \n",
       "\n",
       "        WAGE_RATE_FROM  WAGE_RATE_TO WAGE_RATE_UNIT WORKSITE_STATE  BASE_PAY  \\\n",
       "339079             NaN           NaN           Year             IA   57886.0   \n",
       "461922             NaN           NaN           Hour             IN      25.6   \n",
       "510441             NaN           NaN           Year             CA  190195.0   \n",
       "\n",
       "       BASE_PAY_UNIT  YEAR  \n",
       "339079          Year  2014  \n",
       "461922          Hour  2014  \n",
       "510441          Year  2014  "
      ]
     },
     "execution_count": 19,
     "metadata": {},
     "output_type": "execute_result"
    }
   ],
   "source": [
    "result[result['STATUS'].isin(['INVALIDATED', 'REJECTED'])]"
   ]
  },
  {
   "cell_type": "code",
   "execution_count": 20,
   "id": "0196b549",
   "metadata": {},
   "outputs": [
    {
     "data": {
      "text/plain": [
       "H-1B                          1748422\n",
       "E-3 Australian                  32565\n",
       "H-1B1 Singapore                  2998\n",
       "H-1B1 Chile                      2174\n",
       "Select Visa Classification          1\n",
       "Name: VISA_CLASS, dtype: int64"
      ]
     },
     "execution_count": 20,
     "metadata": {},
     "output_type": "execute_result"
    }
   ],
   "source": [
    "# See counts based on the visa class column\n",
    "result['VISA_CLASS'].value_counts()"
   ]
  },
  {
   "cell_type": "markdown",
   "id": "7d34b38a",
   "metadata": {},
   "source": [
    "Here, I can see that one record has 'Select Visa Classification' as the VISA CLASS. This record seems incorrect. Let's delete this recor from the dataframe"
   ]
  },
  {
   "cell_type": "code",
   "execution_count": 21,
   "id": "4e370938",
   "metadata": {},
   "outputs": [],
   "source": [
    "#Lets delete this record\n",
    "result = result.drop(result[result['VISA_CLASS'] == 'Select Visa Classification'].index)"
   ]
  },
  {
   "cell_type": "markdown",
   "id": "8919d849",
   "metadata": {},
   "source": [
    "Let's check the states of the employers and the worksite state "
   ]
  },
  {
   "cell_type": "code",
   "execution_count": 22,
   "id": "087a619c",
   "metadata": {},
   "outputs": [
    {
     "data": {
      "text/plain": [
       "array(['TX', 'IN', 'MN', 'GA', 'VA', 'NJ', 'KS', 'KY', 'CA', 'IL', 'FL',\n",
       "       'MA', 'NY', 'MI', 'AL', 'TN', 'WA', 'PA', 'IA', 'nan', 'MD', 'OR',\n",
       "       'CT', 'WI', 'CO', 'DC', 'OK', 'MO', 'OH', 'NC', 'DE', 'AK', 'LA',\n",
       "       'AZ', 'NH', 'AR', 'NE', 'HI', 'WY', 'SC', 'UT', 'RI', 'WV', 'NM',\n",
       "       'ME', 'ID', 'MT', 'MS', 'NV', 'SD', 'ND', 'MP', 'VI', 'VT', 'GU',\n",
       "       'PR', 'PW'], dtype=object)"
      ]
     },
     "execution_count": 22,
     "metadata": {},
     "output_type": "execute_result"
    }
   ],
   "source": [
    "# Employer state\n",
    "result['EMP_STATE'].unique()"
   ]
  },
  {
   "cell_type": "code",
   "execution_count": 23,
   "id": "f30a2d71",
   "metadata": {},
   "outputs": [
    {
     "data": {
      "text/plain": [
       "array(['TX', 'IN', 'WI', 'GA', 'CA', 'NC', 'IL', 'KS', 'KY', 'NJ', 'PA',\n",
       "       'AZ', 'CO', 'MA', 'FL', 'NY', 'MN', 'NH', 'MO', 'DC', 'OH', 'VA',\n",
       "       'MD', 'AL', 'CT', 'WA', 'IA', 'nan', 'HI', 'OR', 'TN', 'SC', 'MI',\n",
       "       'DE', 'WV', 'AK', 'NE', 'NV', 'LA', 'WY', 'UT', 'ME', 'RI', 'NM',\n",
       "       'OK', 'ID', 'AR', 'MT', 'MS', 'ND', 'SD', 'MP', 'VI', 'VT', 'PR',\n",
       "       'GU', 'MH', 'PW', 'FM'], dtype=object)"
      ]
     },
     "execution_count": 23,
     "metadata": {},
     "output_type": "execute_result"
    }
   ],
   "source": [
    "# Worksite state\n",
    "result['WORKSITE_STATE'].unique()"
   ]
  },
  {
   "cell_type": "markdown",
   "id": "46d2b4cb",
   "metadata": {},
   "source": [
    "Here, I can see that there are nan values as well as states that are not in the united states. Let's validate them using the list of US states and mark them unknown if they are not in the list."
   ]
  },
  {
   "cell_type": "code",
   "execution_count": 24,
   "id": "f9fad288",
   "metadata": {},
   "outputs": [],
   "source": [
    "# List of valid US states\n",
    "valid_states = ['AL', 'AK', 'AZ', 'AR', 'CA', 'CO', 'CT', 'DE', 'FL', 'GA', 'HI', 'ID', 'IL', 'IN', 'IA', 'KS', 'KY', 'LA', 'ME', 'MD', 'MA', 'MI', 'MN', 'MS', 'MO', 'MT', 'NE', 'NV', 'NH', 'NJ', 'NM', 'NY', 'NC', 'ND', 'OH', 'OK', 'OR', 'PA', 'RI', 'SC', 'SD', 'TN', 'TX', 'UT', 'VT', 'VA', 'WA', 'WV', 'WI', 'WY']\n",
    "\n",
    "# Checck them in the columns\n",
    "result['EMP_STATE'] = result['EMP_STATE'].apply(lambda x: x if x in valid_states else 'Unknown')\n",
    "result['WORKSITE_STATE'] = result['WORKSITE_STATE'].apply(lambda x: x if x in valid_states else 'Unknown')"
   ]
  },
  {
   "cell_type": "code",
   "execution_count": 25,
   "id": "540ce050",
   "metadata": {},
   "outputs": [
    {
     "data": {
      "text/plain": [
       "Year         1668510\n",
       "Hour          114400\n",
       "Month           1798\n",
       "Week             951\n",
       "Bi-Weekly        425\n",
       "Name: WAGE_RATE_UNIT, dtype: int64"
      ]
     },
     "execution_count": 25,
     "metadata": {},
     "output_type": "execute_result"
    }
   ],
   "source": [
    "# See counts based on the visa class column\n",
    "result['WAGE_RATE_UNIT'].value_counts()"
   ]
  },
  {
   "cell_type": "code",
   "execution_count": 26,
   "id": "db115552",
   "metadata": {},
   "outputs": [
    {
     "data": {
      "text/plain": [
       "Year         1668098\n",
       "Hour          115800\n",
       "Month           1204\n",
       "Week             695\n",
       "nan              203\n",
       "Bi-Weekly        159\n",
       "Name: BASE_PAY_UNIT, dtype: int64"
      ]
     },
     "execution_count": 26,
     "metadata": {},
     "output_type": "execute_result"
    }
   ],
   "source": [
    "# See counts based on the visa class column\n",
    "result['BASE_PAY_UNIT'].value_counts()"
   ]
  },
  {
   "cell_type": "markdown",
   "id": "a2710498",
   "metadata": {},
   "source": [
    "### Handle null records"
   ]
  },
  {
   "cell_type": "markdown",
   "id": "ef77f397",
   "metadata": {},
   "source": [
    "Lets fill null WAGE RATE FROM with WAGE RATE TO and vice versa"
   ]
  },
  {
   "cell_type": "code",
   "execution_count": 27,
   "id": "565153ce",
   "metadata": {},
   "outputs": [],
   "source": [
    "result['WAGE_RATE_TO'] = result['WAGE_RATE_TO'].fillna(result['WAGE_RATE_FROM'])\n",
    "result['WAGE_RATE_FROM'] = result['WAGE_RATE_FROM'].fillna(result['WAGE_RATE_TO'])"
   ]
  },
  {
   "cell_type": "markdown",
   "id": "c2619cdf",
   "metadata": {},
   "source": [
    "Replace null values for other columns such as EMP_NAME, EMP_STATE, WORKSITE_STATE, WAGE_RATE_UNIT and BASE_PAY_UNIT with Unknown"
   ]
  },
  {
   "cell_type": "code",
   "execution_count": 28,
   "id": "824498ec",
   "metadata": {},
   "outputs": [],
   "source": [
    "result[\"EMP_NAME\"].fillna(\"Unknown\", inplace=True)\n",
    "result[\"EMP_STATE\"].fillna(\"Unknown\", inplace=True)\n",
    "result[\"WORKSITE_STATE\"].fillna(\"Unknown\", inplace=True)\n",
    "result[\"WAGE_RATE_UNIT\"].fillna(\"Unknown\", inplace=True)\n",
    "result[\"BASE_PAY_UNIT\"].fillna(\"Unknown\", inplace=True)"
   ]
  },
  {
   "cell_type": "markdown",
   "id": "7465841d",
   "metadata": {},
   "source": [
    "### Handling Duplicates\n",
    "\n",
    "Let's find the duplicate records from the dataframe columns other than the ID column and delete them keeping only the first record."
   ]
  },
  {
   "cell_type": "code",
   "execution_count": 29,
   "id": "8dd56f6c",
   "metadata": {},
   "outputs": [],
   "source": [
    "duplicates = result[result.duplicated(subset=result.columns.difference(['ID']))]\n",
    "result.drop_duplicates(subset=result.columns.difference(['ID']), inplace=True, keep='first')"
   ]
  },
  {
   "cell_type": "markdown",
   "id": "2e04674a",
   "metadata": {},
   "source": [
    "### Handling data with issues"
   ]
  },
  {
   "cell_type": "markdown",
   "id": "d5c92a54",
   "metadata": {},
   "source": [
    "Check if the CASE_SUBMIT_DATE is later than the DECISION_DATE. If yes, delete those records."
   ]
  },
  {
   "cell_type": "code",
   "execution_count": 30,
   "id": "4d7dbf8e",
   "metadata": {},
   "outputs": [],
   "source": [
    "result = result[result['CASE_SUBMIT_DATE'] <= result['DECISION_DATE']]"
   ]
  },
  {
   "cell_type": "markdown",
   "id": "010961f9",
   "metadata": {},
   "source": [
    "Checking the value in the JOB_TITLE field and removing data with errors"
   ]
  },
  {
   "cell_type": "code",
   "execution_count": 31,
   "id": "e6c6e017",
   "metadata": {},
   "outputs": [],
   "source": [
    "# drop rows where the 'JOB_TITLE' column contains empty strings or '123'\n",
    "result = result.drop(result[result['JOB_TITLE'] == '\"\"'].index)\n",
    "result = result.drop(result[result['JOB_TITLE'] == '123'].index)\n",
    "result = result.drop(result[result['JOB_TITLE'] == 'DFDFDF'].index)"
   ]
  },
  {
   "cell_type": "markdown",
   "id": "b4704b64",
   "metadata": {},
   "source": [
    "Stripping double quotes from the EMP_NAME and JOB_TITLE field"
   ]
  },
  {
   "cell_type": "code",
   "execution_count": 32,
   "id": "964bed44",
   "metadata": {},
   "outputs": [],
   "source": [
    "result['EMP_NAME'] = result['EMP_NAME'].str.strip('\"')\n",
    "result['JOB_TITLE'] = result['JOB_TITLE'].str.strip('\"')"
   ]
  },
  {
   "cell_type": "code",
   "execution_count": 33,
   "id": "2d805c25",
   "metadata": {},
   "outputs": [
    {
     "data": {
      "text/html": [
       "<div>\n",
       "<style scoped>\n",
       "    .dataframe tbody tr th:only-of-type {\n",
       "        vertical-align: middle;\n",
       "    }\n",
       "\n",
       "    .dataframe tbody tr th {\n",
       "        vertical-align: top;\n",
       "    }\n",
       "\n",
       "    .dataframe thead th {\n",
       "        text-align: right;\n",
       "    }\n",
       "</style>\n",
       "<table border=\"1\" class=\"dataframe\">\n",
       "  <thead>\n",
       "    <tr style=\"text-align: right;\">\n",
       "      <th></th>\n",
       "      <th>ID</th>\n",
       "      <th>STATUS</th>\n",
       "      <th>CASE_SUBMIT_DATE</th>\n",
       "      <th>DECISION_DATE</th>\n",
       "      <th>VISA_CLASS</th>\n",
       "      <th>EMP_START_DATE</th>\n",
       "      <th>EMP_END_DATE</th>\n",
       "      <th>EMP_NAME</th>\n",
       "      <th>EMP_STATE</th>\n",
       "      <th>JOB_TITLE</th>\n",
       "      <th>WAGE_RATE_FROM</th>\n",
       "      <th>WAGE_RATE_TO</th>\n",
       "      <th>WAGE_RATE_UNIT</th>\n",
       "      <th>WORKSITE_STATE</th>\n",
       "      <th>BASE_PAY</th>\n",
       "      <th>BASE_PAY_UNIT</th>\n",
       "      <th>YEAR</th>\n",
       "    </tr>\n",
       "  </thead>\n",
       "  <tbody>\n",
       "    <tr>\n",
       "      <th>375707</th>\n",
       "      <td>2014_375708</td>\n",
       "      <td>WITHDRAWN</td>\n",
       "      <td>2014-05-13</td>\n",
       "      <td>2014-06-06</td>\n",
       "      <td>H-1B</td>\n",
       "      <td>2014-05-26</td>\n",
       "      <td>2017-05-25</td>\n",
       "      <td>JPMORGAN CHASE &amp; CO.</td>\n",
       "      <td>IL</td>\n",
       "      <td>FINANCIAL CONTROL ANALYST</td>\n",
       "      <td>NaN</td>\n",
       "      <td>NaN</td>\n",
       "      <td>Year</td>\n",
       "      <td>DE</td>\n",
       "      <td>55400.00</td>\n",
       "      <td>Year</td>\n",
       "      <td>2014</td>\n",
       "    </tr>\n",
       "    <tr>\n",
       "      <th>92798</th>\n",
       "      <td>2016_92799</td>\n",
       "      <td>CERTIFIED</td>\n",
       "      <td>2015-11-03</td>\n",
       "      <td>2015-11-09</td>\n",
       "      <td>H-1B</td>\n",
       "      <td>2015-11-30</td>\n",
       "      <td>2018-11-30</td>\n",
       "      <td>DELOITTE CONSULTING LLP</td>\n",
       "      <td>PA</td>\n",
       "      <td>ANALYST</td>\n",
       "      <td>NaN</td>\n",
       "      <td>NaN</td>\n",
       "      <td>Year</td>\n",
       "      <td>GA</td>\n",
       "      <td>NaN</td>\n",
       "      <td>Year</td>\n",
       "      <td>2016</td>\n",
       "    </tr>\n",
       "    <tr>\n",
       "      <th>61872</th>\n",
       "      <td>2016_61873</td>\n",
       "      <td>CERTIFIED</td>\n",
       "      <td>2016-07-27</td>\n",
       "      <td>2016-08-02</td>\n",
       "      <td>H-1B</td>\n",
       "      <td>2016-11-15</td>\n",
       "      <td>2019-11-15</td>\n",
       "      <td>KPMG LLP</td>\n",
       "      <td>TX</td>\n",
       "      <td>SENIOR ASSOCIATE</td>\n",
       "      <td>NaN</td>\n",
       "      <td>NaN</td>\n",
       "      <td>Year</td>\n",
       "      <td>PA</td>\n",
       "      <td>NaN</td>\n",
       "      <td>Year</td>\n",
       "      <td>2016</td>\n",
       "    </tr>\n",
       "    <tr>\n",
       "      <th>407292</th>\n",
       "      <td>2016_407293</td>\n",
       "      <td>CERTIFIED</td>\n",
       "      <td>2015-12-24</td>\n",
       "      <td>2015-12-31</td>\n",
       "      <td>H-1B</td>\n",
       "      <td>2016-01-04</td>\n",
       "      <td>2019-01-04</td>\n",
       "      <td>BANK OF AMERICA N.A.</td>\n",
       "      <td>NY</td>\n",
       "      <td>AVP; CONSULTANT - SYSTEMS ENGINEER</td>\n",
       "      <td>NaN</td>\n",
       "      <td>NaN</td>\n",
       "      <td>Year</td>\n",
       "      <td>TX</td>\n",
       "      <td>NaN</td>\n",
       "      <td>Year</td>\n",
       "      <td>2016</td>\n",
       "    </tr>\n",
       "    <tr>\n",
       "      <th>259481</th>\n",
       "      <td>2015_259482</td>\n",
       "      <td>CERTIFIED</td>\n",
       "      <td>2015-03-05</td>\n",
       "      <td>2015-03-11</td>\n",
       "      <td>H-1B</td>\n",
       "      <td>2015-09-04</td>\n",
       "      <td>2018-09-04</td>\n",
       "      <td>GLOBAL COMMUNICATION GROUP, INC.</td>\n",
       "      <td>CA</td>\n",
       "      <td>MULTIMEDIA DESIGNER</td>\n",
       "      <td>23.97</td>\n",
       "      <td>23.97</td>\n",
       "      <td>Hour</td>\n",
       "      <td>CA</td>\n",
       "      <td>23.97</td>\n",
       "      <td>Hour</td>\n",
       "      <td>2015</td>\n",
       "    </tr>\n",
       "  </tbody>\n",
       "</table>\n",
       "</div>"
      ],
      "text/plain": [
       "                 ID     STATUS CASE_SUBMIT_DATE DECISION_DATE VISA_CLASS  \\\n",
       "375707  2014_375708  WITHDRAWN       2014-05-13    2014-06-06       H-1B   \n",
       "92798    2016_92799  CERTIFIED       2015-11-03    2015-11-09       H-1B   \n",
       "61872    2016_61873  CERTIFIED       2016-07-27    2016-08-02       H-1B   \n",
       "407292  2016_407293  CERTIFIED       2015-12-24    2015-12-31       H-1B   \n",
       "259481  2015_259482  CERTIFIED       2015-03-05    2015-03-11       H-1B   \n",
       "\n",
       "       EMP_START_DATE EMP_END_DATE                          EMP_NAME  \\\n",
       "375707     2014-05-26   2017-05-25              JPMORGAN CHASE & CO.   \n",
       "92798      2015-11-30   2018-11-30           DELOITTE CONSULTING LLP   \n",
       "61872      2016-11-15   2019-11-15                          KPMG LLP   \n",
       "407292     2016-01-04   2019-01-04              BANK OF AMERICA N.A.   \n",
       "259481     2015-09-04   2018-09-04  GLOBAL COMMUNICATION GROUP, INC.   \n",
       "\n",
       "       EMP_STATE                           JOB_TITLE  WAGE_RATE_FROM  \\\n",
       "375707        IL           FINANCIAL CONTROL ANALYST             NaN   \n",
       "92798         PA                             ANALYST             NaN   \n",
       "61872         TX                    SENIOR ASSOCIATE             NaN   \n",
       "407292        NY  AVP; CONSULTANT - SYSTEMS ENGINEER             NaN   \n",
       "259481        CA                 MULTIMEDIA DESIGNER           23.97   \n",
       "\n",
       "        WAGE_RATE_TO WAGE_RATE_UNIT WORKSITE_STATE  BASE_PAY BASE_PAY_UNIT  \\\n",
       "375707           NaN           Year             DE  55400.00          Year   \n",
       "92798            NaN           Year             GA       NaN          Year   \n",
       "61872            NaN           Year             PA       NaN          Year   \n",
       "407292           NaN           Year             TX       NaN          Year   \n",
       "259481         23.97           Hour             CA     23.97          Hour   \n",
       "\n",
       "        YEAR  \n",
       "375707  2014  \n",
       "92798   2016  \n",
       "61872   2016  \n",
       "407292  2016  \n",
       "259481  2015  "
      ]
     },
     "execution_count": 33,
     "metadata": {},
     "output_type": "execute_result"
    }
   ],
   "source": [
    "result.sample(5)"
   ]
  },
  {
   "cell_type": "markdown",
   "id": "88123ab3",
   "metadata": {},
   "source": [
    "Replace NaN in wage rate and base pay fields with 0"
   ]
  },
  {
   "cell_type": "code",
   "execution_count": 34,
   "id": "05772726",
   "metadata": {},
   "outputs": [],
   "source": [
    "# Replacing NaN values\n",
    "result['WAGE_RATE_FROM'].fillna(value=0, inplace=True)\n",
    "result['WAGE_RATE_TO'].fillna(value=0, inplace=True)\n",
    "result['BASE_PAY'].fillna(value=0, inplace=True)"
   ]
  },
  {
   "cell_type": "markdown",
   "id": "20255ad5",
   "metadata": {},
   "source": [
    "### Extracting unique Job Titles for further analysis"
   ]
  },
  {
   "cell_type": "code",
   "execution_count": 35,
   "id": "ada7803c",
   "metadata": {},
   "outputs": [],
   "source": [
    "unique_job_titles = result['JOB_TITLE'].unique()\n",
    "\n",
    "# Create a new DataFrame with the unique job titles\n",
    "df_job_titles = pd.DataFrame(unique_job_titles, columns=['JOB_TITLE'])\n",
    "\n",
    "# Save the DataFrame to a CSV file\n",
    "df_job_titles.to_csv('unique_job_titles.csv', index=False)"
   ]
  },
  {
   "cell_type": "markdown",
   "id": "193f1cbf",
   "metadata": {},
   "source": [
    "### Extracting job titles with no base pay for further analysis"
   ]
  },
  {
   "cell_type": "code",
   "execution_count": 36,
   "id": "ef58960c",
   "metadata": {},
   "outputs": [],
   "source": [
    "null_wage_job_title_unique = result.loc[result['BASE_PAY'].isnull(), 'JOB_TITLE'].unique()\n",
    "\n",
    "# create a new dataframe with the unique job titles\n",
    "df_unique = pd.DataFrame({'JOB_TITLE': null_wage_job_title_unique})\n",
    "\n",
    "# dump the dataframe to a CSV file\n",
    "df_unique.to_csv('null_wage_job_titles.csv', index=False)"
   ]
  },
  {
   "cell_type": "markdown",
   "id": "f9db28b2",
   "metadata": {},
   "source": [
    "# Analysis on the data"
   ]
  },
  {
   "cell_type": "markdown",
   "id": "9d27ff28",
   "metadata": {},
   "source": [
    "Here, we will try to find out the top-5 employers and how many petitions they filed in each years"
   ]
  },
  {
   "cell_type": "code",
   "execution_count": 37,
   "id": "a0547d2d",
   "metadata": {},
   "outputs": [
    {
     "data": {
      "image/png": "[encoded data removed]",
      "text/plain": [
       "<Figure size 720x432 with 1 Axes>"
      ]
     },
     "metadata": {
      "needs_background": "light"
     },
     "output_type": "display_data"
    }
   ],
   "source": [
    "petitions_by_employer = result.groupby(['YEAR', 'EMP_NAME'])['ID'].count().reset_index()\n",
    "\n",
    "# Get the top 8 employers that filed the most petitions overall\n",
    "top_employers = petitions_by_employer.groupby('EMP_NAME')['ID'].sum().sort_values(ascending=False).head(5).index.tolist()\n",
    "\n",
    "# Filter the data to include only the top 5 employers\n",
    "petitions_by_employer_top = petitions_by_employer[petitions_by_employer['EMP_NAME'].isin(top_employers)]\n",
    "\n",
    "# Plot a bar chart of the number of petitions filed by each employer in each year\n",
    "fig, ax = plt.subplots(figsize=(10, 6))\n",
    "\n",
    "for i, employer in enumerate(top_employers):\n",
    "    data = petitions_by_employer_top[petitions_by_employer_top['EMP_NAME'] == employer]\n",
    "    ax.bar(data['YEAR'], data['ID'], label=employer, width=0.2, align='center', color=f'C{i}')\n",
    "\n",
    "ax.set_xticks(result['YEAR'].unique())\n",
    "ax.set_xlabel('Year')\n",
    "ax.set_ylabel('Number of petitions filed')\n",
    "ax.set_title('Top 5 employers by number of petitions filed')\n",
    "ax.legend()\n",
    "\n",
    "plt.show()"
   ]
  },
  {
   "cell_type": "markdown",
   "id": "bfedc8ae",
   "metadata": {},
   "source": [
    "From the plot above, we can see that Infosys Limited and Accenture LLP are the top two companies that are filing for H1B petition. Also, we can see that Tata Consultancy Services and Wipro Limited has decreased the no. of petitions over the years while IBM India has increased."
   ]
  },
  {
   "cell_type": "markdown",
   "id": "e2e2e97c",
   "metadata": {},
   "source": [
    "The plot below shows the percentage based distribution of cases based on various status"
   ]
  },
  {
   "cell_type": "code",
   "execution_count": 38,
   "id": "908bf202",
   "metadata": {},
   "outputs": [
    {
     "data": {
      "image/png": "[encoded data removed]",
      "text/plain": [
       "<Figure size 576x432 with 1 Axes>"
      ]
     },
     "metadata": {
      "needs_background": "light"
     },
     "output_type": "display_data"
    }
   ],
   "source": [
    "import matplotlib.pyplot as plt\n",
    "\n",
    "sums = result.STATUS.groupby(result.STATUS).count()\n",
    "total = sums.sum() # Calculate the total number of cases\n",
    "\n",
    "sorted_sums = (sums/total * 100).sort_values(ascending=False) # Calculate percentage and sort\n",
    "\n",
    "plt.figure(figsize=(8, 6))\n",
    "plt.title('Case Status of H-1B Visa')\n",
    "plt.ylabel('Status')\n",
    "plt.xlabel('Percentage of Cases')\n",
    "\n",
    "# Add percentage labels to the bars\n",
    "for i, v in enumerate(sorted_sums):\n",
    "    plt.text(v+0.5, i, f'{v:.6f}%', va='center', fontsize=12)\n",
    "sorted_sums.plot(kind='barh')\n",
    "\n",
    "plt.show()\n"
   ]
  },
  {
   "cell_type": "markdown",
   "id": "cae914ba",
   "metadata": {},
   "source": [
    "From the plot above, we can see that more than 87% of the petitions are certified by the Department of Labor (DOL)"
   ]
  },
  {
   "cell_type": "code",
   "execution_count": 39,
   "id": "88c2a7ed",
   "metadata": {},
   "outputs": [
    {
     "name": "stdout",
     "output_type": "stream",
     "text": [
      "Correlation between WAGE_RATE_FROM and visa certification: 0.01\n"
     ]
    },
    {
     "data": {
      "image/png": "[encoded data removed]",
      "text/plain": [
       "<Figure size 432x288 with 1 Axes>"
      ]
     },
     "metadata": {
      "needs_background": "light"
     },
     "output_type": "display_data"
    }
   ],
   "source": [
    "\n",
    "# Map STATUS to a binary column indicating whether the visa is certified\n",
    "result['certified'] = (result['STATUS'] == 'CERTIFIED').astype(int)\n",
    "\n",
    "# Calculate the correlation between WAGE_RATE_FROM and visa certification\n",
    "correlation = result['WAGE_RATE_FROM'].corr(result['certified'])\n",
    "\n",
    "# Print the correlation coefficient\n",
    "print(f\"Correlation between WAGE_RATE_FROM and visa certification: {correlation:.2f}\")\n",
    "\n",
    "# Create a scatter plot of WAGE_RATE_FROM and visa certification\n",
    "plt.scatter(result['WAGE_RATE_FROM'], result['certified'])\n",
    "plt.xlabel('WAGE_RATE_FROM')\n",
    "plt.ylabel('Visa certification')\n",
    "plt.show()\n"
   ]
  },
  {
   "cell_type": "markdown",
   "id": "70dcd9b8",
   "metadata": {},
   "source": [
    "We can see that there is no significant correlation between the WAGE_RATE and the STATUS"
   ]
  }
 ],
 "metadata": {
  "kernelspec": {
   "display_name": "Python 3 (ipykernel)",
   "language": "python",
   "name": "python3"
  },
  "language_info": {
   "codemirror_mode": {
    "name": "ipython",
    "version": 3
   },
   "file_extension": ".py",
   "mimetype": "text/x-python",
   "name": "python",
   "nbconvert_exporter": "python",
   "pygments_lexer": "ipython3",
   "version": "3.9.12"
  }
 },
 "nbformat": 4,
 "nbformat_minor": 5
}
